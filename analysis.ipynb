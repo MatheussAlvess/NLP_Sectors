{
 "cells": [
  {
   "cell_type": "code",
   "execution_count": 1,
   "metadata": {},
   "outputs": [
    {
     "name": "stdout",
     "output_type": "stream",
     "text": [
      "Python 3.10.0\n"
     ]
    }
   ],
   "source": [
    "!python --version"
   ]
  },
  {
   "cell_type": "markdown",
   "metadata": {},
   "source": [
    "## Imports"
   ]
  },
  {
   "cell_type": "code",
   "execution_count": 2,
   "metadata": {},
   "outputs": [
    {
     "name": "stderr",
     "output_type": "stream",
     "text": [
      "c:\\Users\\mathe\\anaconda3\\envs\\projects-env\\lib\\site-packages\\tqdm\\auto.py:21: TqdmWarning: IProgress not found. Please update jupyter and ipywidgets. See https://ipywidgets.readthedocs.io/en/stable/user_install.html\n",
      "  from .autonotebook import tqdm as notebook_tqdm\n"
     ]
    }
   ],
   "source": [
    "import os \n",
    "import re\n",
    "import string\n",
    "import numpy as np\n",
    "import spacy as sp\n",
    "import pandas as pd\n",
    "import seaborn as sns\n",
    "import tensorflow as tf\n",
    "import tensorflow_datasets as tfds\n",
    "\n",
    "from tensorflow.keras import layers\n",
    "from sklearn.preprocessing import LabelEncoder\n",
    "from sklearn.model_selection import train_test_split"
   ]
  },
  {
   "cell_type": "markdown",
   "metadata": {},
   "source": [
    "## Carregando os dados"
   ]
  },
  {
   "cell_type": "code",
   "execution_count": 3,
   "metadata": {},
   "outputs": [
    {
     "data": {
      "text/html": [
       "<div>\n",
       "<style scoped>\n",
       "    .dataframe tbody tr th:only-of-type {\n",
       "        vertical-align: middle;\n",
       "    }\n",
       "\n",
       "    .dataframe tbody tr th {\n",
       "        vertical-align: top;\n",
       "    }\n",
       "\n",
       "    .dataframe thead th {\n",
       "        text-align: right;\n",
       "    }\n",
       "</style>\n",
       "<table border=\"1\" class=\"dataframe\">\n",
       "  <thead>\n",
       "    <tr style=\"text-align: right;\">\n",
       "      <th></th>\n",
       "      <th>sentence</th>\n",
       "      <th>category</th>\n",
       "    </tr>\n",
       "  </thead>\n",
       "  <tbody>\n",
       "    <tr>\n",
       "      <th>0</th>\n",
       "      <td>Auxílio-Doença Previdenciário, Benefícios em E...</td>\n",
       "      <td>orgão público</td>\n",
       "    </tr>\n",
       "    <tr>\n",
       "      <th>1</th>\n",
       "      <td>PAGAR TODAS AS CONTAS EM ATRASO R$1.290,90.</td>\n",
       "      <td>finanças</td>\n",
       "    </tr>\n",
       "    <tr>\n",
       "      <th>2</th>\n",
       "      <td>Então encontraremos na próxima aula.</td>\n",
       "      <td>educação</td>\n",
       "    </tr>\n",
       "    <tr>\n",
       "      <th>3</th>\n",
       "      <td>Veja os resultados da categoria de ofertas do ...</td>\n",
       "      <td>indústrias</td>\n",
       "    </tr>\n",
       "    <tr>\n",
       "      <th>4</th>\n",
       "      <td>Além disso, a embalagem é reutilizável e 100% ...</td>\n",
       "      <td>indústrias,varejo</td>\n",
       "    </tr>\n",
       "    <tr>\n",
       "      <th>...</th>\n",
       "      <td>...</td>\n",
       "      <td>...</td>\n",
       "    </tr>\n",
       "    <tr>\n",
       "      <th>516</th>\n",
       "      <td>Selecione o local de estudo, curso sem encontr...</td>\n",
       "      <td>educação</td>\n",
       "    </tr>\n",
       "    <tr>\n",
       "      <th>517</th>\n",
       "      <td>ESTUDANTES DA REDE MUNICIPAL VOLTAM ÀS AULAS E...</td>\n",
       "      <td>educação,orgão público</td>\n",
       "    </tr>\n",
       "    <tr>\n",
       "      <th>518</th>\n",
       "      <td>Empresas e órgãos públicos</td>\n",
       "      <td>orgão público</td>\n",
       "    </tr>\n",
       "    <tr>\n",
       "      <th>519</th>\n",
       "      <td>DGE – Departamento de Gestão Estratégica Metas...</td>\n",
       "      <td>orgão público</td>\n",
       "    </tr>\n",
       "    <tr>\n",
       "      <th>520</th>\n",
       "      <td>Lei 13.467/2017, Reforma Trabalhista</td>\n",
       "      <td>orgão público</td>\n",
       "    </tr>\n",
       "  </tbody>\n",
       "</table>\n",
       "<p>521 rows × 2 columns</p>\n",
       "</div>"
      ],
      "text/plain": [
       "                                              sentence                category\n",
       "0    Auxílio-Doença Previdenciário, Benefícios em E...           orgão público\n",
       "1          PAGAR TODAS AS CONTAS EM ATRASO R$1.290,90.                finanças\n",
       "2                 Então encontraremos na próxima aula.                educação\n",
       "3    Veja os resultados da categoria de ofertas do ...              indústrias\n",
       "4    Além disso, a embalagem é reutilizável e 100% ...       indústrias,varejo\n",
       "..                                                 ...                     ...\n",
       "516  Selecione o local de estudo, curso sem encontr...                educação\n",
       "517  ESTUDANTES DA REDE MUNICIPAL VOLTAM ÀS AULAS E...  educação,orgão público\n",
       "518                         Empresas e órgãos públicos           orgão público\n",
       "519  DGE – Departamento de Gestão Estratégica Metas...           orgão público\n",
       "520               Lei 13.467/2017, Reforma Trabalhista           orgão público\n",
       "\n",
       "[521 rows x 2 columns]"
      ]
     },
     "execution_count": 3,
     "metadata": {},
     "output_type": "execute_result"
    }
   ],
   "source": [
    "dataset_path = 'dataset/'\n",
    "dataset_name = 'dataset.csv'\n",
    "\n",
    "dataset = pd.read_csv(os.path.join(dataset_path, dataset_name))\n",
    "dataset"
   ]
  },
  {
   "cell_type": "markdown",
   "metadata": {},
   "source": [
    "## Exploratória"
   ]
  },
  {
   "cell_type": "code",
   "execution_count": 4,
   "metadata": {},
   "outputs": [
    {
     "data": {
      "text/plain": [
       "['Imagem de Geladeira Refrigerador Frost Free Inox 454L.',\n",
       " 'Assuntos: Auxílio-Doença Previdenciário, Benefícios em Espécie, DIREITO PREVIDENCIÁRIO Aposentadoria por Invalidez (Art. 42/7).',\n",
       " 'DGE – Departamento de Gestão Estratégica Metas Nacionais Portal CNJ de Boas Práticas do Poder Judiciário',\n",
       " 'Escolha a forma de pagamento e depois clique em continuar.',\n",
       " 'Relações Humanas, carga horária total do módulo 14hs.']"
      ]
     },
     "execution_count": 4,
     "metadata": {},
     "output_type": "execute_result"
    }
   ],
   "source": [
    "texto = 'sentence'\n",
    "setor = 'category'\n",
    "\n",
    "dataset[texto].sample(5).tolist()"
   ]
  },
  {
   "cell_type": "code",
   "execution_count": 5,
   "metadata": {},
   "outputs": [
    {
     "data": {
      "text/plain": [
       "category\n",
       "orgão público               140\n",
       "educação                    107\n",
       "indústrias                   89\n",
       "varejo                       85\n",
       "finanças                     54\n",
       "finanças,varejo              13\n",
       "educação,orgão público        9\n",
       "indústrias,varejo             7\n",
       "educação,indústrias           5\n",
       "finanças,orgão público        4\n",
       "finanças,indústrias           3\n",
       "indústrias,orgão público      2\n",
       "educação,finanças             2\n",
       "varejo,indústrias             1\n",
       "Name: count, dtype: int64"
      ]
     },
     "execution_count": 5,
     "metadata": {},
     "output_type": "execute_result"
    }
   ],
   "source": [
    "dataset[setor].value_counts()"
   ]
  },
  {
   "cell_type": "code",
   "execution_count": 6,
   "metadata": {},
   "outputs": [
    {
     "data": {
      "image/png": "[encoded data removed]",
      "text/plain": [
       "<Figure size 640x480 with 1 Axes>"
      ]
     },
     "metadata": {},
     "output_type": "display_data"
    }
   ],
   "source": [
    "ordenados = dataset[setor].value_counts().index\n",
    "sns.countplot(dataset[setor], order=ordenados);"
   ]
  },
  {
   "cell_type": "markdown",
   "metadata": {},
   "source": [
    "Observando a frequência com que os setores são atribuídos aos textos, fica claro que o 'multi-labeling' não é tão presente, ou seja,\n",
    "existem bem mais textos classificados à apenas um setor. \n",
    "\n",
    "Nesse momento, é importante decidir qual será a abordagem da modelagem. A priori, tendo a acreditar que modelar um multi-label não vá ser eficiente dado esse 'desbalanceamento'.\n",
    "\n",
    "Uma alternativa é associar cada texto à um único setor.\n",
    "- **E aqueles que são associados a dois setores?**\n",
    "\n",
    "    Estes serão duplicados e associados aos dois setores. \n",
    "    \n",
    "    Exemplo:\n",
    "    \n",
    "     'ESTUDANTES DA REDE MUNICIPAL VOLTAM ÀS AULAS EM VALPARAÍSO.' -> 'educação'   \n",
    "     'ESTUDANTES DA REDE MUNICIPAL VOLTAM ÀS AULAS EM VALPARAÍSO.' -> 'orgão público'\n",
    "\n",
    "    Assim, quando o modelo receber um input que se referir tanto ao setor 'educação' quanto ao setor 'orgão público', ele tenderá a dar pesos mais altos para essas duas classes. \n",
    "\n",
    "- **O modelo não vai ficar confuso tendo duas labels para o mesmo texto?**\n",
    "\n",
    "    Essa abordagem de fato pode atrapalhar o aprendizado do modelo e diminuir a acurácia, no entanto, parte-se do pressuposto de que o modelo tenderá a atribuir maiores pesos para os textos relacionados à um setor em específico."
   ]
  },
  {
   "cell_type": "markdown",
   "metadata": {},
   "source": [
    "## Duplicando os textos com mais de um setor atribuído\n"
   ]
  },
  {
   "cell_type": "code",
   "execution_count": 7,
   "metadata": {},
   "outputs": [
    {
     "data": {
      "text/html": [
       "<div>\n",
       "<style scoped>\n",
       "    .dataframe tbody tr th:only-of-type {\n",
       "        vertical-align: middle;\n",
       "    }\n",
       "\n",
       "    .dataframe tbody tr th {\n",
       "        vertical-align: top;\n",
       "    }\n",
       "\n",
       "    .dataframe thead th {\n",
       "        text-align: right;\n",
       "    }\n",
       "</style>\n",
       "<table border=\"1\" class=\"dataframe\">\n",
       "  <thead>\n",
       "    <tr style=\"text-align: right;\">\n",
       "      <th></th>\n",
       "      <th>sentence</th>\n",
       "      <th>category</th>\n",
       "    </tr>\n",
       "  </thead>\n",
       "  <tbody>\n",
       "    <tr>\n",
       "      <th>0</th>\n",
       "      <td>Auxílio-Doença Previdenciário, Benefícios em E...</td>\n",
       "      <td>[orgão público]</td>\n",
       "    </tr>\n",
       "    <tr>\n",
       "      <th>1</th>\n",
       "      <td>PAGAR TODAS AS CONTAS EM ATRASO R$1.290,90.</td>\n",
       "      <td>[finanças]</td>\n",
       "    </tr>\n",
       "    <tr>\n",
       "      <th>2</th>\n",
       "      <td>Então encontraremos na próxima aula.</td>\n",
       "      <td>[educação]</td>\n",
       "    </tr>\n",
       "    <tr>\n",
       "      <th>3</th>\n",
       "      <td>Veja os resultados da categoria de ofertas do ...</td>\n",
       "      <td>[indústrias]</td>\n",
       "    </tr>\n",
       "    <tr>\n",
       "      <th>4</th>\n",
       "      <td>Além disso, a embalagem é reutilizável e 100% ...</td>\n",
       "      <td>[indústrias, varejo]</td>\n",
       "    </tr>\n",
       "    <tr>\n",
       "      <th>...</th>\n",
       "      <td>...</td>\n",
       "      <td>...</td>\n",
       "    </tr>\n",
       "    <tr>\n",
       "      <th>516</th>\n",
       "      <td>Selecione o local de estudo, curso sem encontr...</td>\n",
       "      <td>[educação]</td>\n",
       "    </tr>\n",
       "    <tr>\n",
       "      <th>517</th>\n",
       "      <td>ESTUDANTES DA REDE MUNICIPAL VOLTAM ÀS AULAS E...</td>\n",
       "      <td>[educação, orgão público]</td>\n",
       "    </tr>\n",
       "    <tr>\n",
       "      <th>518</th>\n",
       "      <td>Empresas e órgãos públicos</td>\n",
       "      <td>[orgão público]</td>\n",
       "    </tr>\n",
       "    <tr>\n",
       "      <th>519</th>\n",
       "      <td>DGE – Departamento de Gestão Estratégica Metas...</td>\n",
       "      <td>[orgão público]</td>\n",
       "    </tr>\n",
       "    <tr>\n",
       "      <th>520</th>\n",
       "      <td>Lei 13.467/2017, Reforma Trabalhista</td>\n",
       "      <td>[orgão público]</td>\n",
       "    </tr>\n",
       "  </tbody>\n",
       "</table>\n",
       "<p>521 rows × 2 columns</p>\n",
       "</div>"
      ],
      "text/plain": [
       "                                              sentence  \\\n",
       "0    Auxílio-Doença Previdenciário, Benefícios em E...   \n",
       "1          PAGAR TODAS AS CONTAS EM ATRASO R$1.290,90.   \n",
       "2                 Então encontraremos na próxima aula.   \n",
       "3    Veja os resultados da categoria de ofertas do ...   \n",
       "4    Além disso, a embalagem é reutilizável e 100% ...   \n",
       "..                                                 ...   \n",
       "516  Selecione o local de estudo, curso sem encontr...   \n",
       "517  ESTUDANTES DA REDE MUNICIPAL VOLTAM ÀS AULAS E...   \n",
       "518                         Empresas e órgãos públicos   \n",
       "519  DGE – Departamento de Gestão Estratégica Metas...   \n",
       "520               Lei 13.467/2017, Reforma Trabalhista   \n",
       "\n",
       "                      category  \n",
       "0              [orgão público]  \n",
       "1                   [finanças]  \n",
       "2                   [educação]  \n",
       "3                 [indústrias]  \n",
       "4         [indústrias, varejo]  \n",
       "..                         ...  \n",
       "516                 [educação]  \n",
       "517  [educação, orgão público]  \n",
       "518            [orgão público]  \n",
       "519            [orgão público]  \n",
       "520            [orgão público]  \n",
       "\n",
       "[521 rows x 2 columns]"
      ]
     },
     "execution_count": 7,
     "metadata": {},
     "output_type": "execute_result"
    }
   ],
   "source": [
    "## A label com dois setor está assumindo o tipo 'string' única, precisamos fazer com que seja uma lista com duas strings\n",
    "dataset[setor] = [set.split(',') for set in dataset[setor]]\n",
    "dataset"
   ]
  },
  {
   "cell_type": "code",
   "execution_count": 8,
   "metadata": {},
   "outputs": [
    {
     "data": {
      "text/html": [
       "<div>\n",
       "<style scoped>\n",
       "    .dataframe tbody tr th:only-of-type {\n",
       "        vertical-align: middle;\n",
       "    }\n",
       "\n",
       "    .dataframe tbody tr th {\n",
       "        vertical-align: top;\n",
       "    }\n",
       "\n",
       "    .dataframe thead th {\n",
       "        text-align: right;\n",
       "    }\n",
       "</style>\n",
       "<table border=\"1\" class=\"dataframe\">\n",
       "  <thead>\n",
       "    <tr style=\"text-align: right;\">\n",
       "      <th></th>\n",
       "      <th>sentence</th>\n",
       "      <th>category</th>\n",
       "    </tr>\n",
       "  </thead>\n",
       "  <tbody>\n",
       "    <tr>\n",
       "      <th>0</th>\n",
       "      <td>Auxílio-Doença Previdenciário, Benefícios em E...</td>\n",
       "      <td>orgão público</td>\n",
       "    </tr>\n",
       "    <tr>\n",
       "      <th>1</th>\n",
       "      <td>PAGAR TODAS AS CONTAS EM ATRASO R$1.290,90.</td>\n",
       "      <td>finanças</td>\n",
       "    </tr>\n",
       "    <tr>\n",
       "      <th>2</th>\n",
       "      <td>Então encontraremos na próxima aula.</td>\n",
       "      <td>educação</td>\n",
       "    </tr>\n",
       "    <tr>\n",
       "      <th>3</th>\n",
       "      <td>Veja os resultados da categoria de ofertas do ...</td>\n",
       "      <td>indústrias</td>\n",
       "    </tr>\n",
       "    <tr>\n",
       "      <th>4</th>\n",
       "      <td>Além disso, a embalagem é reutilizável e 100% ...</td>\n",
       "      <td>indústrias</td>\n",
       "    </tr>\n",
       "    <tr>\n",
       "      <th>...</th>\n",
       "      <td>...</td>\n",
       "      <td>...</td>\n",
       "    </tr>\n",
       "    <tr>\n",
       "      <th>562</th>\n",
       "      <td>ESTUDANTES DA REDE MUNICIPAL VOLTAM ÀS AULAS E...</td>\n",
       "      <td>educação</td>\n",
       "    </tr>\n",
       "    <tr>\n",
       "      <th>563</th>\n",
       "      <td>ESTUDANTES DA REDE MUNICIPAL VOLTAM ÀS AULAS E...</td>\n",
       "      <td>orgão público</td>\n",
       "    </tr>\n",
       "    <tr>\n",
       "      <th>564</th>\n",
       "      <td>Empresas e órgãos públicos</td>\n",
       "      <td>orgão público</td>\n",
       "    </tr>\n",
       "    <tr>\n",
       "      <th>565</th>\n",
       "      <td>DGE – Departamento de Gestão Estratégica Metas...</td>\n",
       "      <td>orgão público</td>\n",
       "    </tr>\n",
       "    <tr>\n",
       "      <th>566</th>\n",
       "      <td>Lei 13.467/2017, Reforma Trabalhista</td>\n",
       "      <td>orgão público</td>\n",
       "    </tr>\n",
       "  </tbody>\n",
       "</table>\n",
       "<p>567 rows × 2 columns</p>\n",
       "</div>"
      ],
      "text/plain": [
       "                                              sentence       category\n",
       "0    Auxílio-Doença Previdenciário, Benefícios em E...  orgão público\n",
       "1          PAGAR TODAS AS CONTAS EM ATRASO R$1.290,90.       finanças\n",
       "2                 Então encontraremos na próxima aula.       educação\n",
       "3    Veja os resultados da categoria de ofertas do ...     indústrias\n",
       "4    Além disso, a embalagem é reutilizável e 100% ...     indústrias\n",
       "..                                                 ...            ...\n",
       "562  ESTUDANTES DA REDE MUNICIPAL VOLTAM ÀS AULAS E...       educação\n",
       "563  ESTUDANTES DA REDE MUNICIPAL VOLTAM ÀS AULAS E...  orgão público\n",
       "564                         Empresas e órgãos públicos  orgão público\n",
       "565  DGE – Departamento de Gestão Estratégica Metas...  orgão público\n",
       "566               Lei 13.467/2017, Reforma Trabalhista  orgão público\n",
       "\n",
       "[567 rows x 2 columns]"
      ]
     },
     "execution_count": 8,
     "metadata": {},
     "output_type": "execute_result"
    }
   ],
   "source": [
    "## Duplicando as linhas e reiniciando o index\n",
    "dataset = dataset.explode(setor).reset_index(drop=True)\n",
    "dataset"
   ]
  },
  {
   "cell_type": "markdown",
   "metadata": {},
   "source": [
    "## Tratamento dos textos"
   ]
  },
  {
   "cell_type": "markdown",
   "metadata": {},
   "source": [
    "Uma vez com o dataset de textos e labels, é necessário fazer o tratamento dos textos para tornar o aprendizado do modelo mais eficiente. Para isso, é comum fazer a remoção de caracteres especiais e pontuações, assim como a  realização da tokenização (processo que divide o texto em unidades menores [palavras ou subpalavras]). Além disso, tambem devemos converter o texto para letras minúsculas para garantir consistência na contagem de palavras."
   ]
  },
  {
   "cell_type": "markdown",
   "metadata": {},
   "source": [
    "- Remover a acentuação.\n",
    "- Remover caracteres especiais.\n",
    "- Remover as 'stop words' que são palavras normalmente encaradas como 'ruído' no texto. \n",
    "\n",
    "Isso é importante para reduzirmos a dimensão de features e facilitar a identificação de padrões mais relevantes."
   ]
  },
  {
   "cell_type": "code",
   "execution_count": 9,
   "metadata": {},
   "outputs": [
    {
     "data": {
      "text/plain": [
       "['sempre',\n",
       " 'tentaram',\n",
       " 'veja',\n",
       " 'saber',\n",
       " 'disso',\n",
       " 'agora',\n",
       " 'apontar',\n",
       " 'dez',\n",
       " 'nossa',\n",
       " 'somos']"
      ]
     },
     "execution_count": 9,
     "metadata": {},
     "output_type": "execute_result"
    }
   ],
   "source": [
    "## Definindo stop words \n",
    "nlp = sp.blank(\"pt\")\n",
    "stop_words = sp.lang.pt.STOP_WORDS\n",
    "[sw for sw in stop_words][:10]"
   ]
  },
  {
   "cell_type": "code",
   "execution_count": 10,
   "metadata": {},
   "outputs": [
    {
     "data": {
      "text/plain": [
       "'!\"#$%&\\'()*+,-./:;<=>?@[\\\\]^_`{|}~'"
      ]
     },
     "execution_count": 10,
     "metadata": {},
     "output_type": "execute_result"
    }
   ],
   "source": [
    "## Caracteres especiais\n",
    "string.punctuation"
   ]
  },
  {
   "cell_type": "code",
   "execution_count": 11,
   "metadata": {},
   "outputs": [
    {
     "data": {
      "text/plain": [
       "'Ele gosta de cacar'"
      ]
     },
     "execution_count": 11,
     "metadata": {},
     "output_type": "execute_result"
    }
   ],
   "source": [
    "## Usando re (Regular Expression)\n",
    "exemplo = 'Ele gosta de caçar'\n",
    "re.sub(r\"[ç]\", \"c\", exemplo)  #Removendo o 'ç'"
   ]
  },
  {
   "cell_type": "code",
   "execution_count": 12,
   "metadata": {},
   "outputs": [],
   "source": [
    "def cleaning(text):\n",
    "    text = text.lower()\n",
    "\n",
    "    text = re.sub(r\"[!@#%&$*º“”—-]\", \"\", text)\n",
    "    text = re.sub(r\"[àáâãäåã]\", \"a\", text)\n",
    "    text = re.sub(r\"[èéêë]\", \"e\", text)\n",
    "    text = re.sub(r\"[ìíîï]\", \"i\", text)\n",
    "    text = re.sub(r\"[òóôõö]\", \"o\", text)\n",
    "    text = re.sub(r\"[ùúûü]\", \"u\", text)\n",
    "    text = re.sub(r\"[ýÿ]\", \"y\", text)\n",
    "    text = re.sub(r\"[ç]\", \"c\", text)\n",
    "\n",
    "    text = text.lower()\n",
    "    document = nlp(text)\n",
    "\n",
    "    words = []\n",
    "    for token in document:\n",
    "        words.append(token.text)\n",
    "\n",
    "    words = [word for word in words if word not in stop_words and word not in string.punctuation] \n",
    "    words = ' '.join([str(element) for element in words])\n",
    "\n",
    "    return words"
   ]
  },
  {
   "cell_type": "code",
   "execution_count": 13,
   "metadata": {},
   "outputs": [
    {
     "name": "stdout",
     "output_type": "stream",
     "text": [
      "Além disso, a embalagem é reutilizável e 100% reciclável.\n",
      "alem embalagem reutilizavel 100 reciclavel\n",
      "\n",
      "\n",
      "Cláusula anticorrupção - Instrução Normativa Conjunta CGE/SEA Nº 01/2020\n",
      "clausula anticorrupcao   instrucao normativa conjunta cge sea n 01/2020\n",
      "\n",
      "\n",
      "Valor Boleto R$ 888,00 no cartão de crédito em até  10X R$ 88,80. \n",
      "boleto r 888,00 cartao credito ate    10x r 88,80\n",
      "\n",
      "\n",
      "Juntada de certidão - requisição de pagamento preparada para transmissão.\n",
      "juntada certidao   requisicao pagamento preparada transmissao\n",
      "\n",
      "\n",
      "Mensagem da Nissan do Brasil: Compre seu carro 0 km hoje mesmo!\n",
      "mensagem nissan brasil compre carro 0 km hoje\n",
      "\n",
      "\n"
     ]
    }
   ],
   "source": [
    "## Comparando texto original com o texto processado\n",
    "for text in dataset[texto].sample(5).tolist():\n",
    "    print(text)\n",
    "    print(cleaning(text))\n",
    "    print('\\n')"
   ]
  },
  {
   "cell_type": "code",
   "execution_count": 14,
   "metadata": {},
   "outputs": [
    {
     "data": {
      "text/html": [
       "<div>\n",
       "<style scoped>\n",
       "    .dataframe tbody tr th:only-of-type {\n",
       "        vertical-align: middle;\n",
       "    }\n",
       "\n",
       "    .dataframe tbody tr th {\n",
       "        vertical-align: top;\n",
       "    }\n",
       "\n",
       "    .dataframe thead th {\n",
       "        text-align: right;\n",
       "    }\n",
       "</style>\n",
       "<table border=\"1\" class=\"dataframe\">\n",
       "  <thead>\n",
       "    <tr style=\"text-align: right;\">\n",
       "      <th></th>\n",
       "      <th>sentence</th>\n",
       "      <th>category</th>\n",
       "    </tr>\n",
       "  </thead>\n",
       "  <tbody>\n",
       "    <tr>\n",
       "      <th>0</th>\n",
       "      <td>auxiliodoenca previdenciario beneficios especi...</td>\n",
       "      <td>orgao publico</td>\n",
       "    </tr>\n",
       "    <tr>\n",
       "      <th>1</th>\n",
       "      <td>pagar contas atraso r1.290,90</td>\n",
       "      <td>financas</td>\n",
       "    </tr>\n",
       "    <tr>\n",
       "      <th>2</th>\n",
       "      <td>entao encontraremos proxima aula</td>\n",
       "      <td>educacao</td>\n",
       "    </tr>\n",
       "    <tr>\n",
       "      <th>3</th>\n",
       "      <td>resultados categoria ofertas modelo nissan kicks</td>\n",
       "      <td>industrias</td>\n",
       "    </tr>\n",
       "    <tr>\n",
       "      <th>4</th>\n",
       "      <td>alem embalagem reutilizavel 100 reciclavel</td>\n",
       "      <td>industrias</td>\n",
       "    </tr>\n",
       "    <tr>\n",
       "      <th>...</th>\n",
       "      <td>...</td>\n",
       "      <td>...</td>\n",
       "    </tr>\n",
       "    <tr>\n",
       "      <th>562</th>\n",
       "      <td>estudantes rede municipal voltam aulas valparaiso</td>\n",
       "      <td>educacao</td>\n",
       "    </tr>\n",
       "    <tr>\n",
       "      <th>563</th>\n",
       "      <td>estudantes rede municipal voltam aulas valparaiso</td>\n",
       "      <td>orgao publico</td>\n",
       "    </tr>\n",
       "    <tr>\n",
       "      <th>564</th>\n",
       "      <td>empresas orgaos publicos</td>\n",
       "      <td>orgao publico</td>\n",
       "    </tr>\n",
       "    <tr>\n",
       "      <th>565</th>\n",
       "      <td>dge – departamento gestao estrategica metas na...</td>\n",
       "      <td>orgao publico</td>\n",
       "    </tr>\n",
       "    <tr>\n",
       "      <th>566</th>\n",
       "      <td>lei 13.467/2017 reforma trabalhista</td>\n",
       "      <td>orgao publico</td>\n",
       "    </tr>\n",
       "  </tbody>\n",
       "</table>\n",
       "<p>567 rows × 2 columns</p>\n",
       "</div>"
      ],
      "text/plain": [
       "                                              sentence       category\n",
       "0    auxiliodoenca previdenciario beneficios especi...  orgao publico\n",
       "1                        pagar contas atraso r1.290,90       financas\n",
       "2                     entao encontraremos proxima aula       educacao\n",
       "3     resultados categoria ofertas modelo nissan kicks     industrias\n",
       "4           alem embalagem reutilizavel 100 reciclavel     industrias\n",
       "..                                                 ...            ...\n",
       "562  estudantes rede municipal voltam aulas valparaiso       educacao\n",
       "563  estudantes rede municipal voltam aulas valparaiso  orgao publico\n",
       "564                           empresas orgaos publicos  orgao publico\n",
       "565  dge – departamento gestao estrategica metas na...  orgao publico\n",
       "566                lei 13.467/2017 reforma trabalhista  orgao publico\n",
       "\n",
       "[567 rows x 2 columns]"
      ]
     },
     "execution_count": 14,
     "metadata": {},
     "output_type": "execute_result"
    }
   ],
   "source": [
    "dataset[texto] = [cleaning(text) for text in dataset[texto]]\n",
    "dataset[setor] = [cleaning(text) for text in dataset[setor]]\n",
    "\n",
    "dataset"
   ]
  },
  {
   "cell_type": "markdown",
   "metadata": {},
   "source": [
    "#### Tokenização"
   ]
  },
  {
   "cell_type": "markdown",
   "metadata": {},
   "source": [
    "Antes da tokenização, vamos definir X como os textos e y sendo a representação númerica de cada setor (aplicando o label enconding)"
   ]
  },
  {
   "cell_type": "code",
   "execution_count": 15,
   "metadata": {},
   "outputs": [],
   "source": [
    "X = dataset[texto]\n",
    "\n",
    "enc = LabelEncoder()\n",
    "y = enc.fit_transform(dataset[setor])"
   ]
  },
  {
   "cell_type": "code",
   "execution_count": 16,
   "metadata": {},
   "outputs": [
    {
     "name": "stdout",
     "output_type": "stream",
     "text": [
      "X >>\n",
      " 0    auxiliodoenca previdenciario beneficios especi...\n",
      "1                        pagar contas atraso r1.290,90\n",
      "2                     entao encontraremos proxima aula\n",
      "3     resultados categoria ofertas modelo nissan kicks\n",
      "4           alem embalagem reutilizavel 100 reciclavel\n",
      "Name: sentence, dtype: object\n",
      "-----\n",
      "y >> [3 1 0 2 2]\n"
     ]
    }
   ],
   "source": [
    "print('X >>\\n',X[:5])\n",
    "print('-----')\n",
    "print('y >>',y[:5])"
   ]
  },
  {
   "cell_type": "code",
   "execution_count": 17,
   "metadata": {},
   "outputs": [],
   "source": [
    "## Construindo o tokenizer (tendo 10 mil como o tamanho do vocabulario alvo)\n",
    "tokenizer = tfds.deprecated.text.SubwordTextEncoder.build_from_corpus(X, target_vocab_size=10000)"
   ]
  },
  {
   "cell_type": "code",
   "execution_count": 18,
   "metadata": {},
   "outputs": [
    {
     "data": {
      "text/plain": [
       "2341"
      ]
     },
     "execution_count": 18,
     "metadata": {},
     "output_type": "execute_result"
    }
   ],
   "source": [
    "## Tamanho do vocabulário\n",
    "tokenizer.vocab_size"
   ]
  },
  {
   "cell_type": "code",
   "execution_count": 19,
   "metadata": {},
   "outputs": [
    {
     "data": {
      "text/plain": [
       "['   ', 'r_', 'carro_', 'voce_', 'sao_']"
      ]
     },
     "execution_count": 19,
     "metadata": {},
     "output_type": "execute_result"
    }
   ],
   "source": [
    "tokenizer.subwords[:5]"
   ]
  },
  {
   "cell_type": "markdown",
   "metadata": {},
   "source": [
    "Exemplo de como funciona a tokenização:"
   ]
  },
  {
   "cell_type": "code",
   "execution_count": 20,
   "metadata": {},
   "outputs": [
    {
     "data": {
      "text/plain": [
       "[2150, 2197, 135, 2161, 2158, 2151, 2167, 2150, 2168]"
      ]
     },
     "execution_count": 20,
     "metadata": {},
     "output_type": "execute_result"
    }
   ],
   "source": [
    "ids = tokenizer.encode('Aprenda LIBRAS')\n",
    "ids"
   ]
  },
  {
   "cell_type": "code",
   "execution_count": 21,
   "metadata": {},
   "outputs": [
    {
     "data": {
      "text/plain": [
       "'Aprenda LIBRAS'"
      ]
     },
     "execution_count": 21,
     "metadata": {},
     "output_type": "execute_result"
    }
   ],
   "source": [
    "text = tokenizer.decode(ids)\n",
    "text"
   ]
  },
  {
   "cell_type": "markdown",
   "metadata": {},
   "source": [
    "___"
   ]
  },
  {
   "cell_type": "code",
   "execution_count": 22,
   "metadata": {},
   "outputs": [
    {
     "data": {
      "text/plain": [
       "[[639, 232, 117, 106, 31, 142],\n",
       " [93, 284, 1877, 86, 2131, 688, 2129, 120],\n",
       " [564, 1554, 140, 641],\n",
       " [220, 618, 28, 1203, 7, 1279],\n",
       " [119, 166, 133, 42, 401]]"
      ]
     },
     "execution_count": 22,
     "metadata": {},
     "output_type": "execute_result"
    }
   ],
   "source": [
    "data_inputs = [tokenizer.encode(sentence) for sentence in X]\n",
    "data_inputs[:5]"
   ]
  },
  {
   "cell_type": "markdown",
   "metadata": {},
   "source": [
    "#### Padding"
   ]
  },
  {
   "cell_type": "markdown",
   "metadata": {},
   "source": [
    "Uma vez que muitos modelos exigem que o dado de entrada sejam de uma dimensão em específico, vamos aplicar o padding para que todos os inputs sejam do mesmo tamanho. "
   ]
  },
  {
   "cell_type": "code",
   "execution_count": 23,
   "metadata": {},
   "outputs": [],
   "source": [
    "data_inputs = tf.keras.preprocessing.sequence.pad_sequences(data_inputs,\n",
    "                                                            value = 0,\n",
    "                                                            padding = 'post',\n",
    "                                                            maxlen=50)"
   ]
  },
  {
   "cell_type": "code",
   "execution_count": 24,
   "metadata": {},
   "outputs": [
    {
     "data": {
      "text/plain": [
       "array([[ 639,  232,  117,  106,   31,  142,    0,    0,    0,    0,    0,\n",
       "           0,    0,    0,    0,    0,    0,    0,    0,    0,    0,    0,\n",
       "           0,    0,    0,    0,    0,    0,    0,    0,    0,    0,    0,\n",
       "           0,    0,    0,    0,    0,    0,    0,    0,    0,    0,    0,\n",
       "           0,    0,    0,    0,    0,    0],\n",
       "       [  93,  284, 1877,   86, 2131,  688, 2129,  120,    0,    0,    0,\n",
       "           0,    0,    0,    0,    0,    0,    0,    0,    0,    0,    0,\n",
       "           0,    0,    0,    0,    0,    0,    0,    0,    0,    0,    0,\n",
       "           0,    0,    0,    0,    0,    0,    0,    0,    0,    0,    0,\n",
       "           0,    0,    0,    0,    0,    0]])"
      ]
     },
     "execution_count": 24,
     "metadata": {},
     "output_type": "execute_result"
    }
   ],
   "source": [
    "data_inputs[:2]"
   ]
  },
  {
   "cell_type": "markdown",
   "metadata": {},
   "source": [
    "## Modelagem"
   ]
  },
  {
   "cell_type": "markdown",
   "metadata": {},
   "source": [
    "Como um primeiro modelo, optei criar uma Rede Neural Convolucional (CNN) que receberá os textos no formato `data_inputs`. Essa CNN processará o texto ao longo de camadas de convolução e pooling e, por fim, retornará a probabilidade do texto de entrada estar associado a cada classe possível."
   ]
  },
  {
   "cell_type": "markdown",
   "metadata": {},
   "source": [
    "Primeiro é necessário separar os dados de treino e os dados de teste."
   ]
  },
  {
   "cell_type": "code",
   "execution_count": 25,
   "metadata": {},
   "outputs": [],
   "source": [
    "data_labels = np.array(y)\n",
    "train_inputs, test_inputs, train_labels, test_labels = train_test_split(data_inputs,\n",
    "                                                                        data_labels,\n",
    "                                                                        test_size=0.1,\n",
    "                                                                        stratify = data_labels)"
   ]
  },
  {
   "cell_type": "code",
   "execution_count": 26,
   "metadata": {},
   "outputs": [
    {
     "name": "stdout",
     "output_type": "stream",
     "text": [
      "Shape dos dados de treinamento: Inputs: (510, 50) Labels: (510,)\n",
      "Shape dos dados de teste: Inputs: (57, 50) Labels: (57,)\n"
     ]
    }
   ],
   "source": [
    "print('Shape dos dados de treinamento:',f'Inputs: {train_inputs.shape} Labels: {train_labels.shape}')\n",
    "print('Shape dos dados de teste:',f'Inputs: {test_inputs.shape} Labels: {test_labels.shape}')"
   ]
  },
  {
   "cell_type": "code",
   "execution_count": 27,
   "metadata": {},
   "outputs": [],
   "source": [
    "class DCNN(tf.keras.Model):\n",
    "\n",
    "  def __init__(self,\n",
    "               vocab_size,\n",
    "               emb_dim=128,\n",
    "               nb_filters=50,\n",
    "               ffn_units=512,\n",
    "               nb_classes=2,\n",
    "               dropout_rate=0.1,\n",
    "               training=False,\n",
    "               name='dcnn'):\n",
    "\n",
    "    ## Inicializando modelo\n",
    "    super(DCNN, self).__init__(name=name)\n",
    "\n",
    "    ## Primeira camada (Embeddings)\n",
    "    self.embedding = layers.Embedding(vocab_size, emb_dim)\n",
    "\n",
    "    ## Segunda camada (Kernels)\n",
    "    self.bigram = layers.Conv1D(filters=nb_filters, kernel_size=2, padding='same', activation='relu')\n",
    "    self.trigram = layers.Conv1D(filters=nb_filters, kernel_size=3, padding='same', activation='relu')\n",
    "\n",
    "    ## Terceira camanda (Pooling)\n",
    "    self.pool = layers.GlobalMaxPool1D()\n",
    "    # self.batchnorm = layers.BatchNormalization()\n",
    "\n",
    "    ## A saída da camada pooling, já é uma camada flatten\n",
    "\n",
    "    ## Rede densa\n",
    "    self.dense_1 = layers.Dense(units=ffn_units, activation='relu')\n",
    "    self.dropout = layers.Dropout(rate=dropout_rate)\n",
    "\n",
    "    if nb_classes == 2:\n",
    "      self.last_dense = layers.Dense(units=1, activation='sigmoid')\n",
    "    else:\n",
    "      self.last_dense = layers.Dense(units=nb_classes,activation='softmax')\n",
    "\n",
    "  def call(self, inputs, training):\n",
    "    # Função de chamada que define o passo de propagação para frente do modelo\n",
    "\n",
    "    # Camada de embeddings: converte os índices de palavras em vetores de embedding\n",
    "    x = self.embedding(inputs)\n",
    "\n",
    "    # Convolução de bigrama seguida por pooling\n",
    "    x_1 = self.bigram(x)\n",
    "    x_1 = self.pool(x_1)\n",
    "\n",
    "    # Convolução de trigrama seguida por pooling\n",
    "    x_2 = self.trigram(x)\n",
    "    x_2 = self.pool(x_2)\n",
    "\n",
    "    # Concatenando as saídas das convoluções de bigrama e trigrama\n",
    "    merged = tf.concat([x_1, x_2], axis=-1) \n",
    "    merged = self.dense_1(merged) # processa a concatenação das saídas das camadas de pooling\n",
    "    merged = self.dropout(merged, training=training) # dropout para evitar overfitting\n",
    "    output = self.last_dense(merged) #ultima camada\n",
    "   \n",
    "    return output"
   ]
  }
 ],
 "metadata": {
  "kernelspec": {
   "display_name": "projects-env",
   "language": "python",
   "name": "python3"
  },
  "language_info": {
   "codemirror_mode": {
    "name": "ipython",
    "version": 3
   },
   "file_extension": ".py",
   "mimetype": "text/x-python",
   "name": "python",
   "nbconvert_exporter": "python",
   "pygments_lexer": "ipython3",
   "version": "3.10.0"
  }
 },
 "nbformat": 4,
 "nbformat_minor": 2
}
