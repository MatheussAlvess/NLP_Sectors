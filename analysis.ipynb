{
 "cells": [
  {
   "cell_type": "code",
   "execution_count": 106,
   "metadata": {},
   "outputs": [
    {
     "name": "stdout",
     "output_type": "stream",
     "text": [
      "Python 3.10.0\n"
     ]
    }
   ],
   "source": [
    "!python --version"
   ]
  },
  {
   "cell_type": "markdown",
   "metadata": {},
   "source": [
    "## Imports"
   ]
  },
  {
   "cell_type": "code",
   "execution_count": 176,
   "metadata": {},
   "outputs": [],
   "source": [
    "import os \n",
    "import re\n",
    "import string\n",
    "import numpy as np\n",
    "import spacy as sp\n",
    "import pandas as pd\n",
    "import seaborn as sns\n",
    "import tensorflow as tf\n",
    "import matplotlib.pyplot as plt\n",
    "import tensorflow_datasets as tfds\n",
    "\n",
    "from sklearn.metrics import confusion_matrix\n",
    "from sklearn.preprocessing import LabelEncoder\n",
    "from tensorflow.keras.models import load_model\n",
    "from sklearn.model_selection import train_test_split\n",
    "from sklearn.preprocessing import MultiLabelBinarizer\n",
    "from tensorflow.keras.preprocessing.text import Tokenizer\n",
    "from tensorflow.keras.preprocessing.sequence import pad_sequences\n",
    "\n",
    "\n",
    "os.environ['PYTHONHASHSEED'] = str(42) \n",
    "os.environ['TF_DETERMINISTIC_OPS'] = '1'\n",
    "os.environ['TF_CUDNN_DETERMINISM'] = '1'"
   ]
  },
  {
   "cell_type": "markdown",
   "metadata": {},
   "source": [
    "## Carregando os dados"
   ]
  },
  {
   "cell_type": "code",
   "execution_count": 237,
   "metadata": {},
   "outputs": [
    {
     "data": {
      "text/html": [
       "<div>\n",
       "<style scoped>\n",
       "    .dataframe tbody tr th:only-of-type {\n",
       "        vertical-align: middle;\n",
       "    }\n",
       "\n",
       "    .dataframe tbody tr th {\n",
       "        vertical-align: top;\n",
       "    }\n",
       "\n",
       "    .dataframe thead th {\n",
       "        text-align: right;\n",
       "    }\n",
       "</style>\n",
       "<table border=\"1\" class=\"dataframe\">\n",
       "  <thead>\n",
       "    <tr style=\"text-align: right;\">\n",
       "      <th></th>\n",
       "      <th>sentence</th>\n",
       "      <th>category</th>\n",
       "    </tr>\n",
       "  </thead>\n",
       "  <tbody>\n",
       "    <tr>\n",
       "      <th>0</th>\n",
       "      <td>Auxílio-Doença Previdenciário, Benefícios em E...</td>\n",
       "      <td>orgão público</td>\n",
       "    </tr>\n",
       "    <tr>\n",
       "      <th>1</th>\n",
       "      <td>PAGAR TODAS AS CONTAS EM ATRASO R$1.290,90.</td>\n",
       "      <td>finanças</td>\n",
       "    </tr>\n",
       "    <tr>\n",
       "      <th>2</th>\n",
       "      <td>Então encontraremos na próxima aula.</td>\n",
       "      <td>educação</td>\n",
       "    </tr>\n",
       "    <tr>\n",
       "      <th>3</th>\n",
       "      <td>Veja os resultados da categoria de ofertas do ...</td>\n",
       "      <td>indústrias</td>\n",
       "    </tr>\n",
       "    <tr>\n",
       "      <th>4</th>\n",
       "      <td>Além disso, a embalagem é reutilizável e 100% ...</td>\n",
       "      <td>indústrias,varejo</td>\n",
       "    </tr>\n",
       "    <tr>\n",
       "      <th>...</th>\n",
       "      <td>...</td>\n",
       "      <td>...</td>\n",
       "    </tr>\n",
       "    <tr>\n",
       "      <th>516</th>\n",
       "      <td>Selecione o local de estudo, curso sem encontr...</td>\n",
       "      <td>educação</td>\n",
       "    </tr>\n",
       "    <tr>\n",
       "      <th>517</th>\n",
       "      <td>ESTUDANTES DA REDE MUNICIPAL VOLTAM ÀS AULAS E...</td>\n",
       "      <td>educação,orgão público</td>\n",
       "    </tr>\n",
       "    <tr>\n",
       "      <th>518</th>\n",
       "      <td>Empresas e órgãos públicos</td>\n",
       "      <td>orgão público</td>\n",
       "    </tr>\n",
       "    <tr>\n",
       "      <th>519</th>\n",
       "      <td>DGE – Departamento de Gestão Estratégica Metas...</td>\n",
       "      <td>orgão público</td>\n",
       "    </tr>\n",
       "    <tr>\n",
       "      <th>520</th>\n",
       "      <td>Lei 13.467/2017, Reforma Trabalhista</td>\n",
       "      <td>orgão público</td>\n",
       "    </tr>\n",
       "  </tbody>\n",
       "</table>\n",
       "<p>521 rows × 2 columns</p>\n",
       "</div>"
      ],
      "text/plain": [
       "                                              sentence                category\n",
       "0    Auxílio-Doença Previdenciário, Benefícios em E...           orgão público\n",
       "1          PAGAR TODAS AS CONTAS EM ATRASO R$1.290,90.                finanças\n",
       "2                 Então encontraremos na próxima aula.                educação\n",
       "3    Veja os resultados da categoria de ofertas do ...              indústrias\n",
       "4    Além disso, a embalagem é reutilizável e 100% ...       indústrias,varejo\n",
       "..                                                 ...                     ...\n",
       "516  Selecione o local de estudo, curso sem encontr...                educação\n",
       "517  ESTUDANTES DA REDE MUNICIPAL VOLTAM ÀS AULAS E...  educação,orgão público\n",
       "518                         Empresas e órgãos públicos           orgão público\n",
       "519  DGE – Departamento de Gestão Estratégica Metas...           orgão público\n",
       "520               Lei 13.467/2017, Reforma Trabalhista           orgão público\n",
       "\n",
       "[521 rows x 2 columns]"
      ]
     },
     "execution_count": 237,
     "metadata": {},
     "output_type": "execute_result"
    }
   ],
   "source": [
    "dataset_path = 'dataset/'\n",
    "dataset_name = 'dataset.csv'\n",
    "\n",
    "dataset = pd.read_csv(os.path.join(dataset_path, dataset_name))\n",
    "dataset"
   ]
  },
  {
   "cell_type": "markdown",
   "metadata": {},
   "source": [
    "## Exploratória"
   ]
  },
  {
   "cell_type": "code",
   "execution_count": 238,
   "metadata": {},
   "outputs": [
    {
     "data": {
      "text/plain": [
       "['Cumprimento de Sentença contra Fazenda Pública  Nº 5000524-55.2019(Processo Eletrônico - E-Proc V2 RS)',\n",
       " 'Formas de pagamento: cartões de crédito ou transferência em conta',\n",
       " 'Câmbio do novo carro Tracker 2022.',\n",
       " 'Escolas Municipais de Educação Infantil (EMEIs), que atendem crianças de 4 a 5 anos e 11 meses.',\n",
       " 'O dinheiro que sobra cada mês pode te ajudar a fazer aquela viagem nas férias.']"
      ]
     },
     "execution_count": 238,
     "metadata": {},
     "output_type": "execute_result"
    }
   ],
   "source": [
    "texto = 'sentence'\n",
    "setor = 'category'\n",
    "\n",
    "dataset[texto].sample(5).tolist()"
   ]
  },
  {
   "cell_type": "code",
   "execution_count": 239,
   "metadata": {},
   "outputs": [
    {
     "data": {
      "text/plain": [
       "category\n",
       "orgão público               140\n",
       "educação                    107\n",
       "indústrias                   89\n",
       "varejo                       85\n",
       "finanças                     54\n",
       "finanças,varejo              13\n",
       "educação,orgão público        9\n",
       "indústrias,varejo             7\n",
       "educação,indústrias           5\n",
       "finanças,orgão público        4\n",
       "finanças,indústrias           3\n",
       "indústrias,orgão público      2\n",
       "educação,finanças             2\n",
       "varejo,indústrias             1\n",
       "Name: count, dtype: int64"
      ]
     },
     "execution_count": 239,
     "metadata": {},
     "output_type": "execute_result"
    }
   ],
   "source": [
    "dataset[setor].value_counts()"
   ]
  },
  {
   "cell_type": "code",
   "execution_count": 240,
   "metadata": {},
   "outputs": [
    {
     "data": {
      "image/png": "[encoded data removed]",
      "text/plain": [
       "<Figure size 640x480 with 1 Axes>"
      ]
     },
     "metadata": {},
     "output_type": "display_data"
    }
   ],
   "source": [
    "ordenados = dataset[setor].value_counts().index\n",
    "sns.countplot(dataset[setor], order=ordenados);"
   ]
  },
  {
   "cell_type": "markdown",
   "metadata": {},
   "source": [
    "Nesse momento, é importante decidir qual será a abordagem da modelagem. Com o desbalanceamento dos dados, dá a entender que considerar as classes múltiplas pode ser um problema e uma alternativa seria associar cada texto à um único setor, onde esses seriam 'copiados' e associados às demais classes. No entanto, isso poderia causar confusão no aprendizado do modelo.  \n",
    "\n",
    "Dito isso, consideraremos a abordagem Multilabel. Aqui estão algumas justificativas:\n",
    "\n",
    "- **Natureza do problema:**\n",
    "\n",
    "    Mesmo que a maioria dos textos esteja associada a apenas uma categoria, a presença de casos de múltiplos rótulos justifica a adoção dessa estratégia.\n",
    "\n",
    "- **Capacidade de capturar associações entre categorias:**\n",
    "\n",
    "    A função de ativação sigmoid combinada com a binarização das classes, permite ao modelo atribuir probabilidades para cada categoria (saída da sigmoid é entre 0 e 1). Assim, mesmo que um texto seja associado a mais de uma classe, o modelo pode aprender a atribuir pesos diferentes a cada uma delas, capturando as associações entre as classes.\n",
    "\n",
    "- **Aumento da capacidade do modelo de entender a complexidade:**\n",
    "\n",
    "    Permitindo que o texto seja associado a mais de uma classe, o modelo se torna mais capaz de capturar a complexidade dos dados. Usar uma abordagem multilabel permite ao modelo capturar essas nuances e atribuir pesos apropriados a cada categoria.\n",
    "\n",
    "- **Como a função sigmoid vai dar predizer mais de uma classe?**\n",
    "\n",
    "    Nesse contexto, a função sigmoid vai dar o peso para as 5 classes (valores entre 0 e 1), aquelas que apresentarem o valor acima de um threashold estabelecido, serão consideradas as labels para o texto fornecido."
   ]
  },
  {
   "cell_type": "code",
   "execution_count": 241,
   "metadata": {},
   "outputs": [
    {
     "data": {
      "text/html": [
       "<div>\n",
       "<style scoped>\n",
       "    .dataframe tbody tr th:only-of-type {\n",
       "        vertical-align: middle;\n",
       "    }\n",
       "\n",
       "    .dataframe tbody tr th {\n",
       "        vertical-align: top;\n",
       "    }\n",
       "\n",
       "    .dataframe thead th {\n",
       "        text-align: right;\n",
       "    }\n",
       "</style>\n",
       "<table border=\"1\" class=\"dataframe\">\n",
       "  <thead>\n",
       "    <tr style=\"text-align: right;\">\n",
       "      <th></th>\n",
       "      <th>sentence</th>\n",
       "      <th>category</th>\n",
       "    </tr>\n",
       "  </thead>\n",
       "  <tbody>\n",
       "    <tr>\n",
       "      <th>0</th>\n",
       "      <td>Auxílio-Doença Previdenciário, Benefícios em E...</td>\n",
       "      <td>[orgão público]</td>\n",
       "    </tr>\n",
       "    <tr>\n",
       "      <th>1</th>\n",
       "      <td>PAGAR TODAS AS CONTAS EM ATRASO R$1.290,90.</td>\n",
       "      <td>[finanças]</td>\n",
       "    </tr>\n",
       "    <tr>\n",
       "      <th>2</th>\n",
       "      <td>Então encontraremos na próxima aula.</td>\n",
       "      <td>[educação]</td>\n",
       "    </tr>\n",
       "    <tr>\n",
       "      <th>3</th>\n",
       "      <td>Veja os resultados da categoria de ofertas do ...</td>\n",
       "      <td>[indústrias]</td>\n",
       "    </tr>\n",
       "    <tr>\n",
       "      <th>4</th>\n",
       "      <td>Além disso, a embalagem é reutilizável e 100% ...</td>\n",
       "      <td>[indústrias, varejo]</td>\n",
       "    </tr>\n",
       "    <tr>\n",
       "      <th>...</th>\n",
       "      <td>...</td>\n",
       "      <td>...</td>\n",
       "    </tr>\n",
       "    <tr>\n",
       "      <th>516</th>\n",
       "      <td>Selecione o local de estudo, curso sem encontr...</td>\n",
       "      <td>[educação]</td>\n",
       "    </tr>\n",
       "    <tr>\n",
       "      <th>517</th>\n",
       "      <td>ESTUDANTES DA REDE MUNICIPAL VOLTAM ÀS AULAS E...</td>\n",
       "      <td>[educação, orgão público]</td>\n",
       "    </tr>\n",
       "    <tr>\n",
       "      <th>518</th>\n",
       "      <td>Empresas e órgãos públicos</td>\n",
       "      <td>[orgão público]</td>\n",
       "    </tr>\n",
       "    <tr>\n",
       "      <th>519</th>\n",
       "      <td>DGE – Departamento de Gestão Estratégica Metas...</td>\n",
       "      <td>[orgão público]</td>\n",
       "    </tr>\n",
       "    <tr>\n",
       "      <th>520</th>\n",
       "      <td>Lei 13.467/2017, Reforma Trabalhista</td>\n",
       "      <td>[orgão público]</td>\n",
       "    </tr>\n",
       "  </tbody>\n",
       "</table>\n",
       "<p>521 rows × 2 columns</p>\n",
       "</div>"
      ],
      "text/plain": [
       "                                              sentence  \\\n",
       "0    Auxílio-Doença Previdenciário, Benefícios em E...   \n",
       "1          PAGAR TODAS AS CONTAS EM ATRASO R$1.290,90.   \n",
       "2                 Então encontraremos na próxima aula.   \n",
       "3    Veja os resultados da categoria de ofertas do ...   \n",
       "4    Além disso, a embalagem é reutilizável e 100% ...   \n",
       "..                                                 ...   \n",
       "516  Selecione o local de estudo, curso sem encontr...   \n",
       "517  ESTUDANTES DA REDE MUNICIPAL VOLTAM ÀS AULAS E...   \n",
       "518                         Empresas e órgãos públicos   \n",
       "519  DGE – Departamento de Gestão Estratégica Metas...   \n",
       "520               Lei 13.467/2017, Reforma Trabalhista   \n",
       "\n",
       "                      category  \n",
       "0              [orgão público]  \n",
       "1                   [finanças]  \n",
       "2                   [educação]  \n",
       "3                 [indústrias]  \n",
       "4         [indústrias, varejo]  \n",
       "..                         ...  \n",
       "516                 [educação]  \n",
       "517  [educação, orgão público]  \n",
       "518            [orgão público]  \n",
       "519            [orgão público]  \n",
       "520            [orgão público]  \n",
       "\n",
       "[521 rows x 2 columns]"
      ]
     },
     "execution_count": 241,
     "metadata": {},
     "output_type": "execute_result"
    }
   ],
   "source": [
    "## A label com dois setor está assumindo o tipo 'string' única, precisamos fazer com que seja uma lista com duas strings\n",
    "dataset[setor] = [set.split(',') for set in dataset[setor]]\n",
    "dataset"
   ]
  },
  {
   "cell_type": "markdown",
   "metadata": {},
   "source": [
    "## Tratamento dos textos"
   ]
  },
  {
   "cell_type": "markdown",
   "metadata": {},
   "source": [
    "Uma vez com o dataset de textos e labels, é necessário fazer o tratamento dos textos para tornar o aprendizado do modelo mais eficiente. Para isso, é comum fazer a remoção de caracteres especiais e pontuações, assim como a  realização da tokenização (processo que divide o texto em unidades menores [palavras ou subpalavras]). Além disso, tambem devemos converter o texto para letras minúsculas para garantir consistência na contagem de palavras."
   ]
  },
  {
   "cell_type": "markdown",
   "metadata": {},
   "source": [
    "- Remover a acentuação.\n",
    "- Remover caracteres especiais.\n",
    "- Remover as 'stop words' que são palavras normalmente encaradas como 'ruído' no texto. \n",
    "\n",
    "Isso é importante para reduzirmos a dimensão de features e facilitar a identificação de padrões mais relevantes."
   ]
  },
  {
   "cell_type": "code",
   "execution_count": 242,
   "metadata": {},
   "outputs": [
    {
     "data": {
      "text/plain": [
       "['tiveram',\n",
       " 'quer',\n",
       " 'dos',\n",
       " 'era',\n",
       " 'diz',\n",
       " 'fazia',\n",
       " 'dezassete',\n",
       " 'vem',\n",
       " 'por',\n",
       " 'primeira']"
      ]
     },
     "execution_count": 242,
     "metadata": {},
     "output_type": "execute_result"
    }
   ],
   "source": [
    "## Definindo stop words \n",
    "nlp = sp.blank(\"pt\")\n",
    "stop_words = sp.lang.pt.STOP_WORDS\n",
    "[sw for sw in stop_words][:10]"
   ]
  },
  {
   "cell_type": "code",
   "execution_count": 243,
   "metadata": {},
   "outputs": [
    {
     "data": {
      "text/plain": [
       "'!\"#$%&\\'()*+,-./:;<=>?@[\\\\]^_`{|}~'"
      ]
     },
     "execution_count": 243,
     "metadata": {},
     "output_type": "execute_result"
    }
   ],
   "source": [
    "## Caracteres especiais\n",
    "string.punctuation"
   ]
  },
  {
   "cell_type": "code",
   "execution_count": 244,
   "metadata": {},
   "outputs": [
    {
     "data": {
      "text/plain": [
       "'Ele gosta de cacar'"
      ]
     },
     "execution_count": 244,
     "metadata": {},
     "output_type": "execute_result"
    }
   ],
   "source": [
    "## Usando re (Regular Expression)\n",
    "exemplo = 'Ele gosta de caçar'\n",
    "re.sub(r\"[ç]\", \"c\", exemplo)  #Removendo o 'ç'"
   ]
  },
  {
   "cell_type": "code",
   "execution_count": 245,
   "metadata": {},
   "outputs": [],
   "source": [
    "def cleaning(text):\n",
    "    text = text.lower()\n",
    "\n",
    "    text = re.sub(r\"[!@#%&$*º“”—-]\", \"\", text)\n",
    "    text = re.sub(r\"[àáâãäåã]\", \"a\", text)\n",
    "    text = re.sub(r\"[èéêë]\", \"e\", text)\n",
    "    text = re.sub(r\"[ìíîï]\", \"i\", text)\n",
    "    text = re.sub(r\"[òóôõö]\", \"o\", text)\n",
    "    text = re.sub(r\"[ùúûü]\", \"u\", text)\n",
    "    text = re.sub(r\"[ýÿ]\", \"y\", text)\n",
    "    text = re.sub(r\"[ç]\", \"c\", text)\n",
    "    # text = re.sub(r\"[0-9]\", \"\", text)\n",
    "\n",
    "    text = text.lower()\n",
    "    document = nlp(text)\n",
    "\n",
    "    words = []\n",
    "    for token in document:\n",
    "        words.append(token.text)\n",
    "\n",
    "    words = [word for word in words if word not in stop_words and word not in string.punctuation] \n",
    "    words = ' '.join([str(element) for element in words])\n",
    "\n",
    "    return words"
   ]
  },
  {
   "cell_type": "code",
   "execution_count": 246,
   "metadata": {},
   "outputs": [
    {
     "name": "stdout",
     "output_type": "stream",
     "text": [
      "Chocolate 60% cacau café Lacta Intense pacote 85g.\n",
      "chocolate 60 cacau cafe lacta intense pacote 85 g.\n",
      "\n",
      "\n",
      "As normas nacionais de direitos humanos consistem, principalmente, de tratados e costumes, bem como diretrizes e princípios, entre outros.\n",
      "normas nacionais direitos humanos consistem principalmente tratados costumes diretrizes principios\n",
      "\n",
      "\n",
      "Nova Chevrolet S10 High Country 2022 , preto ouro.\n",
      "chevrolet s10 high country 2022 preto ouro\n",
      "\n",
      "\n",
      "Parcelas de R$1.699 no Nissan Replay.\n",
      "parcelas r1.699 nissan replay\n",
      "\n",
      "\n",
      "Justiça gratuita: Deferida\n",
      "justica gratuita deferida\n",
      "\n",
      "\n"
     ]
    }
   ],
   "source": [
    "## Comparando texto original com o texto processado\n",
    "for text in dataset[texto].sample(5).tolist():\n",
    "    print(text)\n",
    "    print(cleaning(text))\n",
    "    print('\\n')"
   ]
  },
  {
   "cell_type": "code",
   "execution_count": 247,
   "metadata": {},
   "outputs": [
    {
     "data": {
      "text/html": [
       "<div>\n",
       "<style scoped>\n",
       "    .dataframe tbody tr th:only-of-type {\n",
       "        vertical-align: middle;\n",
       "    }\n",
       "\n",
       "    .dataframe tbody tr th {\n",
       "        vertical-align: top;\n",
       "    }\n",
       "\n",
       "    .dataframe thead th {\n",
       "        text-align: right;\n",
       "    }\n",
       "</style>\n",
       "<table border=\"1\" class=\"dataframe\">\n",
       "  <thead>\n",
       "    <tr style=\"text-align: right;\">\n",
       "      <th></th>\n",
       "      <th>sentence</th>\n",
       "      <th>category</th>\n",
       "    </tr>\n",
       "  </thead>\n",
       "  <tbody>\n",
       "    <tr>\n",
       "      <th>0</th>\n",
       "      <td>auxiliodoenca previdenciario beneficios especi...</td>\n",
       "      <td>[orgão público]</td>\n",
       "    </tr>\n",
       "    <tr>\n",
       "      <th>1</th>\n",
       "      <td>pagar contas atraso r1.290,90</td>\n",
       "      <td>[finanças]</td>\n",
       "    </tr>\n",
       "    <tr>\n",
       "      <th>2</th>\n",
       "      <td>entao encontraremos proxima aula</td>\n",
       "      <td>[educação]</td>\n",
       "    </tr>\n",
       "    <tr>\n",
       "      <th>3</th>\n",
       "      <td>resultados categoria ofertas modelo nissan kicks</td>\n",
       "      <td>[indústrias]</td>\n",
       "    </tr>\n",
       "    <tr>\n",
       "      <th>4</th>\n",
       "      <td>alem embalagem reutilizavel 100 reciclavel</td>\n",
       "      <td>[indústrias, varejo]</td>\n",
       "    </tr>\n",
       "    <tr>\n",
       "      <th>...</th>\n",
       "      <td>...</td>\n",
       "      <td>...</td>\n",
       "    </tr>\n",
       "    <tr>\n",
       "      <th>516</th>\n",
       "      <td>selecione estudo curso encontros presenciais</td>\n",
       "      <td>[educação]</td>\n",
       "    </tr>\n",
       "    <tr>\n",
       "      <th>517</th>\n",
       "      <td>estudantes rede municipal voltam aulas valparaiso</td>\n",
       "      <td>[educação, orgão público]</td>\n",
       "    </tr>\n",
       "    <tr>\n",
       "      <th>518</th>\n",
       "      <td>empresas orgaos publicos</td>\n",
       "      <td>[orgão público]</td>\n",
       "    </tr>\n",
       "    <tr>\n",
       "      <th>519</th>\n",
       "      <td>dge – departamento gestao estrategica metas na...</td>\n",
       "      <td>[orgão público]</td>\n",
       "    </tr>\n",
       "    <tr>\n",
       "      <th>520</th>\n",
       "      <td>lei 13.467/2017 reforma trabalhista</td>\n",
       "      <td>[orgão público]</td>\n",
       "    </tr>\n",
       "  </tbody>\n",
       "</table>\n",
       "<p>521 rows × 2 columns</p>\n",
       "</div>"
      ],
      "text/plain": [
       "                                              sentence  \\\n",
       "0    auxiliodoenca previdenciario beneficios especi...   \n",
       "1                        pagar contas atraso r1.290,90   \n",
       "2                     entao encontraremos proxima aula   \n",
       "3     resultados categoria ofertas modelo nissan kicks   \n",
       "4           alem embalagem reutilizavel 100 reciclavel   \n",
       "..                                                 ...   \n",
       "516       selecione estudo curso encontros presenciais   \n",
       "517  estudantes rede municipal voltam aulas valparaiso   \n",
       "518                           empresas orgaos publicos   \n",
       "519  dge – departamento gestao estrategica metas na...   \n",
       "520                lei 13.467/2017 reforma trabalhista   \n",
       "\n",
       "                      category  \n",
       "0              [orgão público]  \n",
       "1                   [finanças]  \n",
       "2                   [educação]  \n",
       "3                 [indústrias]  \n",
       "4         [indústrias, varejo]  \n",
       "..                         ...  \n",
       "516                 [educação]  \n",
       "517  [educação, orgão público]  \n",
       "518            [orgão público]  \n",
       "519            [orgão público]  \n",
       "520            [orgão público]  \n",
       "\n",
       "[521 rows x 2 columns]"
      ]
     },
     "execution_count": 247,
     "metadata": {},
     "output_type": "execute_result"
    }
   ],
   "source": [
    "dataset[texto] = [cleaning(text) for text in dataset[texto]]\n",
    "dataset"
   ]
  },
  {
   "cell_type": "markdown",
   "metadata": {},
   "source": [
    "#### Tokenização"
   ]
  },
  {
   "cell_type": "markdown",
   "metadata": {},
   "source": [
    "Antes da tokenização, vamos definir X como os textos e y sendo a representação númerica de cada setor (aplicando o label enconding)"
   ]
  },
  {
   "cell_type": "code",
   "execution_count": 248,
   "metadata": {},
   "outputs": [],
   "source": [
    "X = dataset[texto]"
   ]
  },
  {
   "cell_type": "code",
   "execution_count": 249,
   "metadata": {},
   "outputs": [
    {
     "name": "stdout",
     "output_type": "stream",
     "text": [
      "X >>\n",
      " 0    auxiliodoenca previdenciario beneficios especi...\n",
      "1                        pagar contas atraso r1.290,90\n",
      "2                     entao encontraremos proxima aula\n",
      "3     resultados categoria ofertas modelo nissan kicks\n",
      "4           alem embalagem reutilizavel 100 reciclavel\n",
      "Name: sentence, dtype: object\n"
     ]
    }
   ],
   "source": [
    "print('X >>\\n',X[:5])"
   ]
  },
  {
   "cell_type": "code",
   "execution_count": 250,
   "metadata": {},
   "outputs": [],
   "source": [
    "## Construindo o tokenizer (tendo 10 mil como o tamanho do vocabulario alvo)\n",
    "tokenizer = Tokenizer()\n",
    "tokenizer.fit_on_texts(X.tolist())\n",
    "vocab_size = len(tokenizer.word_index) + 1"
   ]
  },
  {
   "cell_type": "code",
   "execution_count": 251,
   "metadata": {},
   "outputs": [
    {
     "data": {
      "text/plain": [
       "1879"
      ]
     },
     "execution_count": 251,
     "metadata": {},
     "output_type": "execute_result"
    }
   ],
   "source": [
    "## Tamanho do vocabulário\n",
    "vocab_size"
   ]
  },
  {
   "cell_type": "code",
   "execution_count": 252,
   "metadata": {},
   "outputs": [
    {
     "data": {
      "text/plain": [
       "[[287, 50, 88, 89, 30, 50],\n",
       " [188, 189, 612, 125, 288, 51],\n",
       " [289, 613, 90, 64],\n",
       " [190, 290, 31, 614, 9, 126],\n",
       " [127, 291, 292, 91, 293]]"
      ]
     },
     "execution_count": 252,
     "metadata": {},
     "output_type": "execute_result"
    }
   ],
   "source": [
    "data_inputs = tokenizer.texts_to_sequences(X.tolist())\n",
    "data_inputs[:5]"
   ]
  },
  {
   "cell_type": "markdown",
   "metadata": {},
   "source": [
    "#### Padding"
   ]
  },
  {
   "cell_type": "markdown",
   "metadata": {},
   "source": [
    "Uma vez que muitos modelos exigem que o dado de entrada sejam de uma dimensão em específico, vamos aplicar o padding para que todos os inputs sejam do mesmo tamanho. "
   ]
  },
  {
   "cell_type": "code",
   "execution_count": 253,
   "metadata": {},
   "outputs": [],
   "source": [
    "data_inputs = tf.keras.preprocessing.sequence.pad_sequences(data_inputs,\n",
    "                                                            value = 0,\n",
    "                                                            padding = 'post',\n",
    "                                                            maxlen=30)"
   ]
  },
  {
   "cell_type": "code",
   "execution_count": 254,
   "metadata": {},
   "outputs": [
    {
     "data": {
      "text/plain": [
       "array([[287,  50,  88,  89,  30,  50,   0,   0,   0,   0,   0,   0,   0,\n",
       "          0,   0,   0,   0,   0,   0,   0,   0,   0,   0,   0,   0,   0,\n",
       "          0,   0,   0,   0],\n",
       "       [188, 189, 612, 125, 288,  51,   0,   0,   0,   0,   0,   0,   0,\n",
       "          0,   0,   0,   0,   0,   0,   0,   0,   0,   0,   0,   0,   0,\n",
       "          0,   0,   0,   0]])"
      ]
     },
     "execution_count": 254,
     "metadata": {},
     "output_type": "execute_result"
    }
   ],
   "source": [
    "data_inputs[:2]"
   ]
  },
  {
   "cell_type": "markdown",
   "metadata": {},
   "source": [
    "## Modelagem"
   ]
  },
  {
   "cell_type": "markdown",
   "metadata": {},
   "source": [
    "Como um primeiro modelo, optei criar uma Rede Neural Convolucional (CNN) que receberá os textos no formato `data_inputs`. Essa CNN processará o texto ao longo de camadas de convolução e pooling e, por fim, retornará a probabilidade do texto de entrada estar associado a cada classe possível."
   ]
  },
  {
   "cell_type": "markdown",
   "metadata": {},
   "source": [
    "Primeiro é necessário separar os dados de treino e os dados de teste."
   ]
  },
  {
   "cell_type": "code",
   "execution_count": 255,
   "metadata": {},
   "outputs": [],
   "source": [
    "mlb = MultiLabelBinarizer()\n",
    "data_labels = mlb.fit_transform(dataset['category'])\n",
    "\n",
    "train_inputs, test_inputs, train_labels, test_labels = train_test_split(data_inputs,\n",
    "                                                                        data_labels,\n",
    "                                                                        test_size=0.1,\n",
    "                                                                        stratify = data_labels)"
   ]
  },
  {
   "cell_type": "code",
   "execution_count": 256,
   "metadata": {},
   "outputs": [
    {
     "name": "stdout",
     "output_type": "stream",
     "text": [
      "Shape dos dados de treinamento: Inputs: (468, 30) Labels: (468, 5)\n",
      "Shape dos dados de teste: Inputs: (53, 30) Labels: (53, 5)\n"
     ]
    }
   ],
   "source": [
    "print('Shape dos dados de treinamento:',f'Inputs: {train_inputs.shape} Labels: {train_labels.shape}')\n",
    "print('Shape dos dados de teste:',f'Inputs: {test_inputs.shape} Labels: {test_labels.shape}')"
   ]
  },
  {
   "cell_type": "markdown",
   "metadata": {},
   "source": [
    "Criando o modelo"
   ]
  },
  {
   "cell_type": "markdown",
   "metadata": {},
   "source": [
    "Iniciando o Treinamento "
   ]
  },
  {
   "cell_type": "code",
   "execution_count": 257,
   "metadata": {},
   "outputs": [],
   "source": [
    "def DCNN(vocab_size,\n",
    "         emb_dim=128,\n",
    "         nb_filters=50,\n",
    "         ffn_units=512,\n",
    "         nb_classes=2,\n",
    "         dropout_rate=0.1,\n",
    "         training=False,\n",
    "         name='dcnn'):\n",
    "\n",
    "    # Definindo a entrada do modelo\n",
    "    inputs = tf.keras.Input(shape=(None,), name='input_text')\n",
    "\n",
    "    # Camada de embeddings\n",
    "    x = tf.keras.layers.Embedding(vocab_size, emb_dim)(inputs)\n",
    "\n",
    "    # Convoluções de Bigrama seguidas por pooling\n",
    "    conv1 = tf.keras.layers.Conv1D(filters=nb_filters, kernel_size=2, padding='same', activation='relu')(x)\n",
    "    conv1 = tf.keras.layers.GlobalMaxPool1D()(conv1)\n",
    "\n",
    "    # Convoluções de Trigrama seguidas por pooling\n",
    "    conv2 = tf.keras.layers.Conv1D(filters=nb_filters, kernel_size=3, padding='same', activation='relu')(x)\n",
    "    conv2 = tf.keras.layers.GlobalMaxPool1D()(conv2)\n",
    "\n",
    "    # Convoluções de Trigrama seguidas por pooling\n",
    "    conv3 = tf.keras.layers.Conv1D(filters=nb_filters, kernel_size=3, padding='same', activation='relu')(x)\n",
    "    conv3 = tf.keras.layers.GlobalMaxPool1D()(conv3)\n",
    "\n",
    "    # Convoluções de Quatrigrama seguidas por pooling\n",
    "    conv4 = tf.keras.layers.Conv1D(filters=nb_filters, kernel_size=4, padding='same', activation='relu')(x)\n",
    "    conv4 = tf.keras.layers.GlobalMaxPool1D()(conv4)\n",
    "\n",
    "    # Convoluções de Quatrigrama seguidas por pooling\n",
    "    conv5 = tf.keras.layers.Conv1D(filters=nb_filters, kernel_size=4, padding='same', activation='relu')(x)\n",
    "    conv5 = tf.keras.layers.GlobalMaxPool1D()(conv5)\n",
    "\n",
    "    # Concatenando as saídas das convoluções\n",
    "    merged = tf.keras.layers.concatenate([conv1, conv2, conv3, conv4, conv5], axis=-1)\n",
    "\n",
    "    # Rede densa\n",
    "    dense = tf.keras.layers.Dense(units=ffn_units, activation='relu')(merged) # Camada densa inicial\n",
    "    dropout = tf.keras.layers.Dropout(rate=dropout_rate)(dense, training=training) # Camada de dropout\n",
    "    \n",
    "    # Camada de saída\n",
    "    outputs = tf.keras.layers.Dense(units=nb_classes, activation='sigmoid', name='output')(dropout)\n",
    "\n",
    "    # Criando o modelo\n",
    "    model = tf.keras.Model(inputs=inputs, outputs=outputs, name=name)\n",
    "\n",
    "    return model"
   ]
  },
  {
   "cell_type": "markdown",
   "metadata": {},
   "source": [
    "Escolhendo valores para os parâmetros do modelo"
   ]
  },
  {
   "cell_type": "code",
   "execution_count": 258,
   "metadata": {},
   "outputs": [],
   "source": [
    "## Parametros\n",
    "vocab_size = len(tokenizer.word_index) + 1\n",
    "emb_dim = 128\n",
    "nb_filters = 100\n",
    "ffn_units = 512\n",
    "batch_size = 32\n",
    "nb_classes = 5\n",
    "dropout_rate = 0.2\n",
    "nb_epochs = 100"
   ]
  },
  {
   "cell_type": "code",
   "execution_count": 259,
   "metadata": {},
   "outputs": [],
   "source": [
    "## Inicializando modelo\n",
    "model = DCNN(vocab_size=vocab_size, emb_dim=emb_dim, nb_filters=nb_filters,\n",
    "            ffn_units=ffn_units, nb_classes=nb_classes, dropout_rate=dropout_rate)"
   ]
  },
  {
   "cell_type": "code",
   "execution_count": 260,
   "metadata": {},
   "outputs": [],
   "source": [
    "model.compile(loss='binary_crossentropy', optimizer='Adam', metrics=['accuracy'])"
   ]
  },
  {
   "cell_type": "markdown",
   "metadata": {},
   "source": [
    "Treinamento considerando 10% dos dados para validação"
   ]
  },
  {
   "cell_type": "code",
   "execution_count": null,
   "metadata": {},
   "outputs": [],
   "source": [
    "tf.random.set_seed(1)\n",
    "history = model.fit(train_inputs, train_labels,\n",
    "            batch_size = batch_size,\n",
    "            epochs = nb_epochs,\n",
    "            verbose = 1,\n",
    "            validation_split = .1)\n",
    "\n",
    "results = model.evaluate(test_inputs, test_labels, batch_size=batch_size)"
   ]
  },
  {
   "cell_type": "code",
   "execution_count": null,
   "metadata": {},
   "outputs": [],
   "source": [
    "## o output do treinamento do modelo foi removido para não poluir o notebook"
   ]
  },
  {
   "cell_type": "code",
   "execution_count": 265,
   "metadata": {},
   "outputs": [
    {
     "name": "stdout",
     "output_type": "stream",
     "text": [
      "loss:  0.5122183561325073 \n",
      "acurácia:  0.7169811129570007\n"
     ]
    }
   ],
   "source": [
    "print('loss: ',results[0],'\\nacurácia: ',results[1])"
   ]
  },
  {
   "cell_type": "code",
   "execution_count": 262,
   "metadata": {},
   "outputs": [
    {
     "name": "stderr",
     "output_type": "stream",
     "text": [
      "WARNING:absl:You are saving your model as an HDF5 file via `model.save()` or `keras.saving.save_model(model)`. This file format is considered legacy. We recommend using instead the native Keras format, e.g. `model.save('my_model.keras')` or `keras.saving.save_model(model, 'my_model.keras')`. \n",
      "WARNING:absl:Compiled the loaded model, but the compiled metrics have yet to be built. `model.compile_metrics` will be empty until you train or evaluate the model.\n"
     ]
    }
   ],
   "source": [
    "# ## Salvando o modelo \n",
    "model.save('CNN_MultiLabel_NLP.h5')\n",
    "del model\n",
    "model = load_model(\"CNN_MultiLabel_NLP.h5\")"
   ]
  },
  {
   "cell_type": "markdown",
   "metadata": {},
   "source": [
    "#### Avaliação do modelo"
   ]
  },
  {
   "cell_type": "code",
   "execution_count": 267,
   "metadata": {},
   "outputs": [
    {
     "data": {
      "image/png": "[encoded data removed]",
      "text/plain": [
       "<Figure size 1500x500 with 2 Axes>"
      ]
     },
     "metadata": {},
     "output_type": "display_data"
    }
   ],
   "source": [
    "# Define o tamanho da figura\n",
    "plt.figure(figsize=(15, 5))\n",
    "\n",
    "# Primeiro subplot para loss\n",
    "plt.subplot(1, 2, 1)  \n",
    "plt.plot(history.history['loss'])\n",
    "plt.plot(history.history['val_loss'])\n",
    "plt.title('Progresso da loss durante o treinamento e validação')\n",
    "plt.xlabel('Época')\n",
    "plt.ylabel('Loss')\n",
    "plt.legend(['Loss no Treino', 'Loss na Validação'])\n",
    "\n",
    "# Segundo subplot para accuracy\n",
    "plt.subplot(1, 2, 2)  \n",
    "plt.plot(history.history['accuracy'])\n",
    "plt.plot(history.history['val_accuracy'])\n",
    "plt.title('Progresso da acurácia durante o treinamento e validação')\n",
    "plt.xlabel('Época')\n",
    "plt.ylabel('Loss')\n",
    "plt.legend(['Acurácia no Treino', 'Acurácia na Validação']);"
   ]
  },
  {
   "cell_type": "markdown",
   "metadata": {},
   "source": [
    "(Baseado na validação)\n",
    "Com base nos plots, vemos que o modelo não foi tão eficiente no aprendizado, apresentando uma curva ascendente de Loss. No entanto, a acurácia foi razoavelmente bem acertando em média 78% das predições. "
   ]
  },
  {
   "cell_type": "code",
   "execution_count": 285,
   "metadata": {},
   "outputs": [
    {
     "name": "stdout",
     "output_type": "stream",
     "text": [
      "\u001b[1m2/2\u001b[0m \u001b[32m━━━━━━━━━━━━━━━━━━━━\u001b[0m\u001b[37m\u001b[0m \u001b[1m0s\u001b[0m 7ms/step \n",
      "Matriz de Confusão para a classe educação:\n",
      "[[40  0]\n",
      " [ 6  7]]\n",
      "\n",
      "Matriz de Confusão para a classe finanças:\n",
      "[[45  1]\n",
      " [ 5  2]]\n",
      "\n",
      "Matriz de Confusão para a classe indústrias:\n",
      "[[40  2]\n",
      " [ 2  9]]\n",
      "\n",
      "Matriz de Confusão para a classe orgão público:\n",
      "[[35  3]\n",
      " [ 6  9]]\n",
      "\n",
      "Matriz de Confusão para a classe varejo:\n",
      "[[40  2]\n",
      " [ 5  6]]\n",
      "\n"
     ]
    }
   ],
   "source": [
    "from sklearn.metrics import multilabel_confusion_matrix\n",
    "\n",
    "# Fazendo previsões no conjunto de teste\n",
    "y_pred = model.predict(test_inputs)\n",
    "\n",
    "# Convertendo as previsões para o formato de rótulos binarizados\n",
    "threshold = 0.3\n",
    "y_pred_binarized = (y_pred > threshold).astype(int)\n",
    "\n",
    "# Calculando a matriz de confusão multilabel\n",
    "confusion_matrix = multilabel_confusion_matrix(test_labels, y_pred_binarized)\n",
    "\n",
    "# Exibindo a matriz de confusão para cada classe\n",
    "for i, label in enumerate(mlb.classes_):\n",
    "    print(f\"Matriz de Confusão para a classe {label}:\")\n",
    "    print(confusion_matrix[i])\n",
    "    print()"
   ]
  },
  {
   "cell_type": "markdown",
   "metadata": {},
   "source": [
    "## Predizendo input"
   ]
  },
  {
   "cell_type": "code",
   "execution_count": 272,
   "metadata": {},
   "outputs": [],
   "source": [
    "def predict_sector(text: object = 'Texto com o tema de interesse', threashold: float = 0.3) -> list:\n",
    "    \n",
    "    new_sentence = text\n",
    "\n",
    "    # Pré-processamento da nova frase\n",
    "    new_sentence_tokens = tokenizer.texts_to_sequences([new_sentence])\n",
    "    new_sentence_tokens_padded = pad_sequences(new_sentence_tokens, padding='post', maxlen=100)\n",
    "\n",
    "    # Previsão da nova frase\n",
    "    predictions = model.predict(new_sentence_tokens_padded)\n",
    "\n",
    "    # Decodificação da previsão\n",
    "    threshold = 0.1  # Limiar de probabilidade para considerar a classe presente ou não\n",
    "    predicted_labels = (predictions > threshold).astype(int)\n",
    "\n",
    "    # Decodificando os rótulos previstos usando o MultiLabelBinarizer inverso\n",
    "    predicted_categories = mlb.inverse_transform(predicted_labels)\n",
    "\n",
    "    return [i for i in predicted_categories[0]]"
   ]
  },
  {
   "cell_type": "markdown",
   "metadata": {},
   "source": [
    "Exemplos"
   ]
  },
  {
   "cell_type": "code",
   "execution_count": 275,
   "metadata": {},
   "outputs": [
    {
     "name": "stdout",
     "output_type": "stream",
     "text": [
      "\u001b[1m1/1\u001b[0m \u001b[32m━━━━━━━━━━━━━━━━━━━━\u001b[0m\u001b[37m\u001b[0m \u001b[1m0s\u001b[0m 44ms/step\n"
     ]
    },
    {
     "data": {
      "text/plain": [
       "['finanças', 'varejo']"
      ]
     },
     "execution_count": 275,
     "metadata": {},
     "output_type": "execute_result"
    }
   ],
   "source": [
    "predict_sector('No cartao com juros!')"
   ]
  },
  {
   "cell_type": "code",
   "execution_count": 276,
   "metadata": {},
   "outputs": [
    {
     "name": "stdout",
     "output_type": "stream",
     "text": [
      "\u001b[1m1/1\u001b[0m \u001b[32m━━━━━━━━━━━━━━━━━━━━\u001b[0m\u001b[37m\u001b[0m \u001b[1m0s\u001b[0m 41ms/step\n"
     ]
    },
    {
     "data": {
      "text/plain": [
       "['educação']"
      ]
     },
     "execution_count": 276,
     "metadata": {},
     "output_type": "execute_result"
    }
   ],
   "source": [
    "predict_sector('Faça curso de LIBRAS.')"
   ]
  },
  {
   "cell_type": "code",
   "execution_count": 284,
   "metadata": {},
   "outputs": [
    {
     "name": "stdout",
     "output_type": "stream",
     "text": [
      "\u001b[1m1/1\u001b[0m \u001b[32m━━━━━━━━━━━━━━━━━━━━\u001b[0m\u001b[37m\u001b[0m \u001b[1m0s\u001b[0m 51ms/step\n"
     ]
    },
    {
     "data": {
      "text/plain": [
       "['indústrias', 'varejo']"
      ]
     },
     "execution_count": 284,
     "metadata": {},
     "output_type": "execute_result"
    }
   ],
   "source": [
    "predict_sector('As peças do carro enferrujaram.')"
   ]
  },
  {
   "cell_type": "code",
   "execution_count": null,
   "metadata": {},
   "outputs": [],
   "source": []
  }
 ],
 "metadata": {
  "kernelspec": {
   "display_name": "projects-env",
   "language": "python",
   "name": "python3"
  },
  "language_info": {
   "codemirror_mode": {
    "name": "ipython",
    "version": 3
   },
   "file_extension": ".py",
   "mimetype": "text/x-python",
   "name": "python",
   "nbconvert_exporter": "python",
   "pygments_lexer": "ipython3",
   "version": "3.10.0"
  }
 },
 "nbformat": 4,
 "nbformat_minor": 2
}
