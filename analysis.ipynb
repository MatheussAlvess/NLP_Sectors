{
 "cells": [
  {
   "cell_type": "code",
   "execution_count": 1,
   "metadata": {},
   "outputs": [
    {
     "name": "stdout",
     "output_type": "stream",
     "text": [
      "Python 3.10.0\n"
     ]
    }
   ],
   "source": [
    "!python --version"
   ]
  },
  {
   "cell_type": "markdown",
   "metadata": {},
   "source": [
    "## Imports"
   ]
  },
  {
   "cell_type": "code",
   "execution_count": 40,
   "metadata": {},
   "outputs": [],
   "source": [
    "import os \n",
    "import re\n",
    "import string\n",
    "import numpy as np\n",
    "import spacy as sp\n",
    "import pandas as pd\n",
    "import seaborn as sns\n",
    "import tensorflow as tf\n",
    "import matplotlib.pyplot as plt\n",
    "import tensorflow_datasets as tfds\n",
    "\n",
    "from tensorflow.keras import layers\n",
    "from sklearn.metrics import confusion_matrix\n",
    "from sklearn.preprocessing import LabelEncoder\n",
    "from sklearn.model_selection import train_test_split\n"
   ]
  },
  {
   "cell_type": "markdown",
   "metadata": {},
   "source": [
    "## Carregando os dados"
   ]
  },
  {
   "cell_type": "code",
   "execution_count": 3,
   "metadata": {},
   "outputs": [
    {
     "data": {
      "text/html": [
       "<div>\n",
       "<style scoped>\n",
       "    .dataframe tbody tr th:only-of-type {\n",
       "        vertical-align: middle;\n",
       "    }\n",
       "\n",
       "    .dataframe tbody tr th {\n",
       "        vertical-align: top;\n",
       "    }\n",
       "\n",
       "    .dataframe thead th {\n",
       "        text-align: right;\n",
       "    }\n",
       "</style>\n",
       "<table border=\"1\" class=\"dataframe\">\n",
       "  <thead>\n",
       "    <tr style=\"text-align: right;\">\n",
       "      <th></th>\n",
       "      <th>sentence</th>\n",
       "      <th>category</th>\n",
       "    </tr>\n",
       "  </thead>\n",
       "  <tbody>\n",
       "    <tr>\n",
       "      <th>0</th>\n",
       "      <td>Auxílio-Doença Previdenciário, Benefícios em E...</td>\n",
       "      <td>orgão público</td>\n",
       "    </tr>\n",
       "    <tr>\n",
       "      <th>1</th>\n",
       "      <td>PAGAR TODAS AS CONTAS EM ATRASO R$1.290,90.</td>\n",
       "      <td>finanças</td>\n",
       "    </tr>\n",
       "    <tr>\n",
       "      <th>2</th>\n",
       "      <td>Então encontraremos na próxima aula.</td>\n",
       "      <td>educação</td>\n",
       "    </tr>\n",
       "    <tr>\n",
       "      <th>3</th>\n",
       "      <td>Veja os resultados da categoria de ofertas do ...</td>\n",
       "      <td>indústrias</td>\n",
       "    </tr>\n",
       "    <tr>\n",
       "      <th>4</th>\n",
       "      <td>Além disso, a embalagem é reutilizável e 100% ...</td>\n",
       "      <td>indústrias,varejo</td>\n",
       "    </tr>\n",
       "    <tr>\n",
       "      <th>...</th>\n",
       "      <td>...</td>\n",
       "      <td>...</td>\n",
       "    </tr>\n",
       "    <tr>\n",
       "      <th>516</th>\n",
       "      <td>Selecione o local de estudo, curso sem encontr...</td>\n",
       "      <td>educação</td>\n",
       "    </tr>\n",
       "    <tr>\n",
       "      <th>517</th>\n",
       "      <td>ESTUDANTES DA REDE MUNICIPAL VOLTAM ÀS AULAS E...</td>\n",
       "      <td>educação,orgão público</td>\n",
       "    </tr>\n",
       "    <tr>\n",
       "      <th>518</th>\n",
       "      <td>Empresas e órgãos públicos</td>\n",
       "      <td>orgão público</td>\n",
       "    </tr>\n",
       "    <tr>\n",
       "      <th>519</th>\n",
       "      <td>DGE – Departamento de Gestão Estratégica Metas...</td>\n",
       "      <td>orgão público</td>\n",
       "    </tr>\n",
       "    <tr>\n",
       "      <th>520</th>\n",
       "      <td>Lei 13.467/2017, Reforma Trabalhista</td>\n",
       "      <td>orgão público</td>\n",
       "    </tr>\n",
       "  </tbody>\n",
       "</table>\n",
       "<p>521 rows × 2 columns</p>\n",
       "</div>"
      ],
      "text/plain": [
       "                                              sentence                category\n",
       "0    Auxílio-Doença Previdenciário, Benefícios em E...           orgão público\n",
       "1          PAGAR TODAS AS CONTAS EM ATRASO R$1.290,90.                finanças\n",
       "2                 Então encontraremos na próxima aula.                educação\n",
       "3    Veja os resultados da categoria de ofertas do ...              indústrias\n",
       "4    Além disso, a embalagem é reutilizável e 100% ...       indústrias,varejo\n",
       "..                                                 ...                     ...\n",
       "516  Selecione o local de estudo, curso sem encontr...                educação\n",
       "517  ESTUDANTES DA REDE MUNICIPAL VOLTAM ÀS AULAS E...  educação,orgão público\n",
       "518                         Empresas e órgãos públicos           orgão público\n",
       "519  DGE – Departamento de Gestão Estratégica Metas...           orgão público\n",
       "520               Lei 13.467/2017, Reforma Trabalhista           orgão público\n",
       "\n",
       "[521 rows x 2 columns]"
      ]
     },
     "execution_count": 3,
     "metadata": {},
     "output_type": "execute_result"
    }
   ],
   "source": [
    "dataset_path = 'dataset/'\n",
    "dataset_name = 'dataset.csv'\n",
    "\n",
    "dataset = pd.read_csv(os.path.join(dataset_path, dataset_name))\n",
    "dataset"
   ]
  },
  {
   "cell_type": "markdown",
   "metadata": {},
   "source": [
    "## Exploratória"
   ]
  },
  {
   "cell_type": "code",
   "execution_count": 4,
   "metadata": {},
   "outputs": [
    {
     "data": {
      "text/plain": [
       "['Chamamento Público para Credenciamento de Prestação.',\n",
       " 'Setor Único - Inteira R$\\xa0390,00 Lote 7',\n",
       " 'Governo do Estado anuncia retorno à fase vermelha do Plano São Paulo em 09/04/2021.',\n",
       " 'Para se enquadrar nesta categoria é necessário apresentar o comprovante de produtor rural, o ITR – Imposto sobre propriedade Territorial Rural.',\n",
       " 'Iniciativas de professores, alunos, colaboradores e parceiros fizeram a diferença na vida de muitas pessoas em 2020.']"
      ]
     },
     "execution_count": 4,
     "metadata": {},
     "output_type": "execute_result"
    }
   ],
   "source": [
    "texto = 'sentence'\n",
    "setor = 'category'\n",
    "\n",
    "dataset[texto].sample(5).tolist()"
   ]
  },
  {
   "cell_type": "code",
   "execution_count": 5,
   "metadata": {},
   "outputs": [
    {
     "data": {
      "text/plain": [
       "category\n",
       "orgão público               140\n",
       "educação                    107\n",
       "indústrias                   89\n",
       "varejo                       85\n",
       "finanças                     54\n",
       "finanças,varejo              13\n",
       "educação,orgão público        9\n",
       "indústrias,varejo             7\n",
       "educação,indústrias           5\n",
       "finanças,orgão público        4\n",
       "finanças,indústrias           3\n",
       "indústrias,orgão público      2\n",
       "educação,finanças             2\n",
       "varejo,indústrias             1\n",
       "Name: count, dtype: int64"
      ]
     },
     "execution_count": 5,
     "metadata": {},
     "output_type": "execute_result"
    }
   ],
   "source": [
    "dataset[setor].value_counts()"
   ]
  },
  {
   "cell_type": "code",
   "execution_count": 6,
   "metadata": {},
   "outputs": [
    {
     "data": {
      "image/png": "[encoded data removed]",
      "text/plain": [
       "<Figure size 640x480 with 1 Axes>"
      ]
     },
     "metadata": {},
     "output_type": "display_data"
    }
   ],
   "source": [
    "ordenados = dataset[setor].value_counts().index\n",
    "sns.countplot(dataset[setor], order=ordenados);"
   ]
  },
  {
   "cell_type": "markdown",
   "metadata": {},
   "source": [
    "Observando a frequência com que os setores são atribuídos aos textos, fica claro que o 'multi-labeling' não é tão presente, ou seja,\n",
    "existem bem mais textos classificados à apenas um setor. \n",
    "\n",
    "Nesse momento, é importante decidir qual será a abordagem da modelagem. A priori, tendo a acreditar que modelar um multi-label não vá ser eficiente dado esse 'desbalanceamento'.\n",
    "\n",
    "Uma alternativa é associar cada texto à um único setor.\n",
    "- **E aqueles que são associados a dois setores?**\n",
    "\n",
    "    Estes serão duplicados e associados aos dois setores. \n",
    "    \n",
    "    Exemplo:\n",
    "    \n",
    "     'ESTUDANTES DA REDE MUNICIPAL VOLTAM ÀS AULAS EM VALPARAÍSO.' -> 'educação'   \n",
    "     'ESTUDANTES DA REDE MUNICIPAL VOLTAM ÀS AULAS EM VALPARAÍSO.' -> 'orgão público'\n",
    "\n",
    "    Assim, quando o modelo receber um input que se referir tanto ao setor 'educação' quanto ao setor 'orgão público', ele tenderá a dar pesos mais altos para essas duas classes. \n",
    "\n",
    "- **O modelo não vai ficar confuso tendo duas labels para o mesmo texto?**\n",
    "\n",
    "    Essa abordagem de fato pode atrapalhar o aprendizado do modelo e diminuir a acurácia, no entanto, parte-se do pressuposto de que o modelo tenderá a atribuir maiores pesos para os textos relacionados à um setor em específico."
   ]
  },
  {
   "cell_type": "markdown",
   "metadata": {},
   "source": [
    "## Duplicando os textos com mais de um setor atribuído\n"
   ]
  },
  {
   "cell_type": "code",
   "execution_count": 7,
   "metadata": {},
   "outputs": [
    {
     "data": {
      "text/html": [
       "<div>\n",
       "<style scoped>\n",
       "    .dataframe tbody tr th:only-of-type {\n",
       "        vertical-align: middle;\n",
       "    }\n",
       "\n",
       "    .dataframe tbody tr th {\n",
       "        vertical-align: top;\n",
       "    }\n",
       "\n",
       "    .dataframe thead th {\n",
       "        text-align: right;\n",
       "    }\n",
       "</style>\n",
       "<table border=\"1\" class=\"dataframe\">\n",
       "  <thead>\n",
       "    <tr style=\"text-align: right;\">\n",
       "      <th></th>\n",
       "      <th>sentence</th>\n",
       "      <th>category</th>\n",
       "    </tr>\n",
       "  </thead>\n",
       "  <tbody>\n",
       "    <tr>\n",
       "      <th>0</th>\n",
       "      <td>Auxílio-Doença Previdenciário, Benefícios em E...</td>\n",
       "      <td>[orgão público]</td>\n",
       "    </tr>\n",
       "    <tr>\n",
       "      <th>1</th>\n",
       "      <td>PAGAR TODAS AS CONTAS EM ATRASO R$1.290,90.</td>\n",
       "      <td>[finanças]</td>\n",
       "    </tr>\n",
       "    <tr>\n",
       "      <th>2</th>\n",
       "      <td>Então encontraremos na próxima aula.</td>\n",
       "      <td>[educação]</td>\n",
       "    </tr>\n",
       "    <tr>\n",
       "      <th>3</th>\n",
       "      <td>Veja os resultados da categoria de ofertas do ...</td>\n",
       "      <td>[indústrias]</td>\n",
       "    </tr>\n",
       "    <tr>\n",
       "      <th>4</th>\n",
       "      <td>Além disso, a embalagem é reutilizável e 100% ...</td>\n",
       "      <td>[indústrias, varejo]</td>\n",
       "    </tr>\n",
       "    <tr>\n",
       "      <th>...</th>\n",
       "      <td>...</td>\n",
       "      <td>...</td>\n",
       "    </tr>\n",
       "    <tr>\n",
       "      <th>516</th>\n",
       "      <td>Selecione o local de estudo, curso sem encontr...</td>\n",
       "      <td>[educação]</td>\n",
       "    </tr>\n",
       "    <tr>\n",
       "      <th>517</th>\n",
       "      <td>ESTUDANTES DA REDE MUNICIPAL VOLTAM ÀS AULAS E...</td>\n",
       "      <td>[educação, orgão público]</td>\n",
       "    </tr>\n",
       "    <tr>\n",
       "      <th>518</th>\n",
       "      <td>Empresas e órgãos públicos</td>\n",
       "      <td>[orgão público]</td>\n",
       "    </tr>\n",
       "    <tr>\n",
       "      <th>519</th>\n",
       "      <td>DGE – Departamento de Gestão Estratégica Metas...</td>\n",
       "      <td>[orgão público]</td>\n",
       "    </tr>\n",
       "    <tr>\n",
       "      <th>520</th>\n",
       "      <td>Lei 13.467/2017, Reforma Trabalhista</td>\n",
       "      <td>[orgão público]</td>\n",
       "    </tr>\n",
       "  </tbody>\n",
       "</table>\n",
       "<p>521 rows × 2 columns</p>\n",
       "</div>"
      ],
      "text/plain": [
       "                                              sentence  \\\n",
       "0    Auxílio-Doença Previdenciário, Benefícios em E...   \n",
       "1          PAGAR TODAS AS CONTAS EM ATRASO R$1.290,90.   \n",
       "2                 Então encontraremos na próxima aula.   \n",
       "3    Veja os resultados da categoria de ofertas do ...   \n",
       "4    Além disso, a embalagem é reutilizável e 100% ...   \n",
       "..                                                 ...   \n",
       "516  Selecione o local de estudo, curso sem encontr...   \n",
       "517  ESTUDANTES DA REDE MUNICIPAL VOLTAM ÀS AULAS E...   \n",
       "518                         Empresas e órgãos públicos   \n",
       "519  DGE – Departamento de Gestão Estratégica Metas...   \n",
       "520               Lei 13.467/2017, Reforma Trabalhista   \n",
       "\n",
       "                      category  \n",
       "0              [orgão público]  \n",
       "1                   [finanças]  \n",
       "2                   [educação]  \n",
       "3                 [indústrias]  \n",
       "4         [indústrias, varejo]  \n",
       "..                         ...  \n",
       "516                 [educação]  \n",
       "517  [educação, orgão público]  \n",
       "518            [orgão público]  \n",
       "519            [orgão público]  \n",
       "520            [orgão público]  \n",
       "\n",
       "[521 rows x 2 columns]"
      ]
     },
     "execution_count": 7,
     "metadata": {},
     "output_type": "execute_result"
    }
   ],
   "source": [
    "## A label com dois setor está assumindo o tipo 'string' única, precisamos fazer com que seja uma lista com duas strings\n",
    "dataset[setor] = [set.split(',') for set in dataset[setor]]\n",
    "dataset"
   ]
  },
  {
   "cell_type": "code",
   "execution_count": 8,
   "metadata": {},
   "outputs": [
    {
     "data": {
      "text/html": [
       "<div>\n",
       "<style scoped>\n",
       "    .dataframe tbody tr th:only-of-type {\n",
       "        vertical-align: middle;\n",
       "    }\n",
       "\n",
       "    .dataframe tbody tr th {\n",
       "        vertical-align: top;\n",
       "    }\n",
       "\n",
       "    .dataframe thead th {\n",
       "        text-align: right;\n",
       "    }\n",
       "</style>\n",
       "<table border=\"1\" class=\"dataframe\">\n",
       "  <thead>\n",
       "    <tr style=\"text-align: right;\">\n",
       "      <th></th>\n",
       "      <th>sentence</th>\n",
       "      <th>category</th>\n",
       "    </tr>\n",
       "  </thead>\n",
       "  <tbody>\n",
       "    <tr>\n",
       "      <th>0</th>\n",
       "      <td>Auxílio-Doença Previdenciário, Benefícios em E...</td>\n",
       "      <td>orgão público</td>\n",
       "    </tr>\n",
       "    <tr>\n",
       "      <th>1</th>\n",
       "      <td>PAGAR TODAS AS CONTAS EM ATRASO R$1.290,90.</td>\n",
       "      <td>finanças</td>\n",
       "    </tr>\n",
       "    <tr>\n",
       "      <th>2</th>\n",
       "      <td>Então encontraremos na próxima aula.</td>\n",
       "      <td>educação</td>\n",
       "    </tr>\n",
       "    <tr>\n",
       "      <th>3</th>\n",
       "      <td>Veja os resultados da categoria de ofertas do ...</td>\n",
       "      <td>indústrias</td>\n",
       "    </tr>\n",
       "    <tr>\n",
       "      <th>4</th>\n",
       "      <td>Além disso, a embalagem é reutilizável e 100% ...</td>\n",
       "      <td>indústrias</td>\n",
       "    </tr>\n",
       "    <tr>\n",
       "      <th>...</th>\n",
       "      <td>...</td>\n",
       "      <td>...</td>\n",
       "    </tr>\n",
       "    <tr>\n",
       "      <th>562</th>\n",
       "      <td>ESTUDANTES DA REDE MUNICIPAL VOLTAM ÀS AULAS E...</td>\n",
       "      <td>educação</td>\n",
       "    </tr>\n",
       "    <tr>\n",
       "      <th>563</th>\n",
       "      <td>ESTUDANTES DA REDE MUNICIPAL VOLTAM ÀS AULAS E...</td>\n",
       "      <td>orgão público</td>\n",
       "    </tr>\n",
       "    <tr>\n",
       "      <th>564</th>\n",
       "      <td>Empresas e órgãos públicos</td>\n",
       "      <td>orgão público</td>\n",
       "    </tr>\n",
       "    <tr>\n",
       "      <th>565</th>\n",
       "      <td>DGE – Departamento de Gestão Estratégica Metas...</td>\n",
       "      <td>orgão público</td>\n",
       "    </tr>\n",
       "    <tr>\n",
       "      <th>566</th>\n",
       "      <td>Lei 13.467/2017, Reforma Trabalhista</td>\n",
       "      <td>orgão público</td>\n",
       "    </tr>\n",
       "  </tbody>\n",
       "</table>\n",
       "<p>567 rows × 2 columns</p>\n",
       "</div>"
      ],
      "text/plain": [
       "                                              sentence       category\n",
       "0    Auxílio-Doença Previdenciário, Benefícios em E...  orgão público\n",
       "1          PAGAR TODAS AS CONTAS EM ATRASO R$1.290,90.       finanças\n",
       "2                 Então encontraremos na próxima aula.       educação\n",
       "3    Veja os resultados da categoria de ofertas do ...     indústrias\n",
       "4    Além disso, a embalagem é reutilizável e 100% ...     indústrias\n",
       "..                                                 ...            ...\n",
       "562  ESTUDANTES DA REDE MUNICIPAL VOLTAM ÀS AULAS E...       educação\n",
       "563  ESTUDANTES DA REDE MUNICIPAL VOLTAM ÀS AULAS E...  orgão público\n",
       "564                         Empresas e órgãos públicos  orgão público\n",
       "565  DGE – Departamento de Gestão Estratégica Metas...  orgão público\n",
       "566               Lei 13.467/2017, Reforma Trabalhista  orgão público\n",
       "\n",
       "[567 rows x 2 columns]"
      ]
     },
     "execution_count": 8,
     "metadata": {},
     "output_type": "execute_result"
    }
   ],
   "source": [
    "## Duplicando as linhas e reiniciando o index\n",
    "dataset = dataset.explode(setor).reset_index(drop=True)\n",
    "dataset"
   ]
  },
  {
   "cell_type": "markdown",
   "metadata": {},
   "source": [
    "## Tratamento dos textos"
   ]
  },
  {
   "cell_type": "markdown",
   "metadata": {},
   "source": [
    "Uma vez com o dataset de textos e labels, é necessário fazer o tratamento dos textos para tornar o aprendizado do modelo mais eficiente. Para isso, é comum fazer a remoção de caracteres especiais e pontuações, assim como a  realização da tokenização (processo que divide o texto em unidades menores [palavras ou subpalavras]). Além disso, tambem devemos converter o texto para letras minúsculas para garantir consistência na contagem de palavras."
   ]
  },
  {
   "cell_type": "markdown",
   "metadata": {},
   "source": [
    "- Remover a acentuação.\n",
    "- Remover caracteres especiais.\n",
    "- Remover as 'stop words' que são palavras normalmente encaradas como 'ruído' no texto. \n",
    "\n",
    "Isso é importante para reduzirmos a dimensão de features e facilitar a identificação de padrões mais relevantes."
   ]
  },
  {
   "cell_type": "code",
   "execution_count": 9,
   "metadata": {},
   "outputs": [
    {
     "data": {
      "text/plain": [
       "['maiorias',\n",
       " 'eventual',\n",
       " 'cujo',\n",
       " 'para',\n",
       " 'aí',\n",
       " 'esse',\n",
       " 'segundo',\n",
       " 'à',\n",
       " 'por',\n",
       " 'a']"
      ]
     },
     "execution_count": 9,
     "metadata": {},
     "output_type": "execute_result"
    }
   ],
   "source": [
    "## Definindo stop words \n",
    "nlp = sp.blank(\"pt\")\n",
    "stop_words = sp.lang.pt.STOP_WORDS\n",
    "[sw for sw in stop_words][:10]"
   ]
  },
  {
   "cell_type": "code",
   "execution_count": 10,
   "metadata": {},
   "outputs": [
    {
     "data": {
      "text/plain": [
       "'!\"#$%&\\'()*+,-./:;<=>?@[\\\\]^_`{|}~'"
      ]
     },
     "execution_count": 10,
     "metadata": {},
     "output_type": "execute_result"
    }
   ],
   "source": [
    "## Caracteres especiais\n",
    "string.punctuation"
   ]
  },
  {
   "cell_type": "code",
   "execution_count": 11,
   "metadata": {},
   "outputs": [
    {
     "data": {
      "text/plain": [
       "'Ele gosta de cacar'"
      ]
     },
     "execution_count": 11,
     "metadata": {},
     "output_type": "execute_result"
    }
   ],
   "source": [
    "## Usando re (Regular Expression)\n",
    "exemplo = 'Ele gosta de caçar'\n",
    "re.sub(r\"[ç]\", \"c\", exemplo)  #Removendo o 'ç'"
   ]
  },
  {
   "cell_type": "code",
   "execution_count": 12,
   "metadata": {},
   "outputs": [],
   "source": [
    "def cleaning(text):\n",
    "    text = text.lower()\n",
    "\n",
    "    text = re.sub(r\"[!@#%&$*º“”—-]\", \"\", text)\n",
    "    text = re.sub(r\"[àáâãäåã]\", \"a\", text)\n",
    "    text = re.sub(r\"[èéêë]\", \"e\", text)\n",
    "    text = re.sub(r\"[ìíîï]\", \"i\", text)\n",
    "    text = re.sub(r\"[òóôõö]\", \"o\", text)\n",
    "    text = re.sub(r\"[ùúûü]\", \"u\", text)\n",
    "    text = re.sub(r\"[ýÿ]\", \"y\", text)\n",
    "    text = re.sub(r\"[ç]\", \"c\", text)\n",
    "    text = re.sub(r\"[0-9]\", \"\", text)\n",
    "\n",
    "    text = text.lower()\n",
    "    document = nlp(text)\n",
    "\n",
    "    words = []\n",
    "    for token in document:\n",
    "        words.append(token.text)\n",
    "\n",
    "    words = [word for word in words if word not in stop_words and word not in string.punctuation] \n",
    "    words = ' '.join([str(element) for element in words])\n",
    "\n",
    "    return words"
   ]
  },
  {
   "cell_type": "code",
   "execution_count": 13,
   "metadata": {},
   "outputs": [
    {
     "name": "stdout",
     "output_type": "stream",
     "text": [
      "EM CONDIÇÕES PARTICULARES, QUAL O INTERVALO RECOMENDADO DE TROCA DO ÓLEO DO MOTOR?\n",
      "condicoes particulares intervalo recomendado troca oleo motor\n",
      "\n",
      "\n",
      "Segunda via de Infração de trânsito.\n",
      "via infracao transito\n",
      "\n",
      "\n",
      "O desemprego é extremamente elevado e a desigualdade de renda é aproximadamente igual à do Brasil .\n",
      "desemprego extremamente elevado desigualdade renda aproximadamente igual brasil\n",
      "\n",
      "\n",
      "Nova Chevrolet S10 High Country 2022 , preto ouro.\n",
      "chevrolet s high country   preto ouro\n",
      "\n",
      "\n",
      "Anos Iniciais do Ensino Fundamental.\n",
      "anos iniciais ensino fundamental\n",
      "\n",
      "\n"
     ]
    }
   ],
   "source": [
    "## Comparando texto original com o texto processado\n",
    "for text in dataset[texto].sample(5).tolist():\n",
    "    print(text)\n",
    "    print(cleaning(text))\n",
    "    print('\\n')"
   ]
  },
  {
   "cell_type": "code",
   "execution_count": 14,
   "metadata": {},
   "outputs": [
    {
     "data": {
      "text/html": [
       "<div>\n",
       "<style scoped>\n",
       "    .dataframe tbody tr th:only-of-type {\n",
       "        vertical-align: middle;\n",
       "    }\n",
       "\n",
       "    .dataframe tbody tr th {\n",
       "        vertical-align: top;\n",
       "    }\n",
       "\n",
       "    .dataframe thead th {\n",
       "        text-align: right;\n",
       "    }\n",
       "</style>\n",
       "<table border=\"1\" class=\"dataframe\">\n",
       "  <thead>\n",
       "    <tr style=\"text-align: right;\">\n",
       "      <th></th>\n",
       "      <th>sentence</th>\n",
       "      <th>category</th>\n",
       "    </tr>\n",
       "  </thead>\n",
       "  <tbody>\n",
       "    <tr>\n",
       "      <th>0</th>\n",
       "      <td>auxiliodoenca previdenciario beneficios especi...</td>\n",
       "      <td>orgao publico</td>\n",
       "    </tr>\n",
       "    <tr>\n",
       "      <th>1</th>\n",
       "      <td>pagar contas atraso r.</td>\n",
       "      <td>financas</td>\n",
       "    </tr>\n",
       "    <tr>\n",
       "      <th>2</th>\n",
       "      <td>entao encontraremos proxima aula</td>\n",
       "      <td>educacao</td>\n",
       "    </tr>\n",
       "    <tr>\n",
       "      <th>3</th>\n",
       "      <td>resultados categoria ofertas modelo nissan kicks</td>\n",
       "      <td>industrias</td>\n",
       "    </tr>\n",
       "    <tr>\n",
       "      <th>4</th>\n",
       "      <td>alem embalagem reutilizavel   reciclavel</td>\n",
       "      <td>industrias</td>\n",
       "    </tr>\n",
       "    <tr>\n",
       "      <th>...</th>\n",
       "      <td>...</td>\n",
       "      <td>...</td>\n",
       "    </tr>\n",
       "    <tr>\n",
       "      <th>562</th>\n",
       "      <td>estudantes rede municipal voltam aulas valparaiso</td>\n",
       "      <td>educacao</td>\n",
       "    </tr>\n",
       "    <tr>\n",
       "      <th>563</th>\n",
       "      <td>estudantes rede municipal voltam aulas valparaiso</td>\n",
       "      <td>orgao publico</td>\n",
       "    </tr>\n",
       "    <tr>\n",
       "      <th>564</th>\n",
       "      <td>empresas orgaos publicos</td>\n",
       "      <td>orgao publico</td>\n",
       "    </tr>\n",
       "    <tr>\n",
       "      <th>565</th>\n",
       "      <td>dge – departamento gestao estrategica metas na...</td>\n",
       "      <td>orgao publico</td>\n",
       "    </tr>\n",
       "    <tr>\n",
       "      <th>566</th>\n",
       "      <td>lei reforma trabalhista</td>\n",
       "      <td>orgao publico</td>\n",
       "    </tr>\n",
       "  </tbody>\n",
       "</table>\n",
       "<p>567 rows × 2 columns</p>\n",
       "</div>"
      ],
      "text/plain": [
       "                                              sentence       category\n",
       "0    auxiliodoenca previdenciario beneficios especi...  orgao publico\n",
       "1                               pagar contas atraso r.       financas\n",
       "2                     entao encontraremos proxima aula       educacao\n",
       "3     resultados categoria ofertas modelo nissan kicks     industrias\n",
       "4             alem embalagem reutilizavel   reciclavel     industrias\n",
       "..                                                 ...            ...\n",
       "562  estudantes rede municipal voltam aulas valparaiso       educacao\n",
       "563  estudantes rede municipal voltam aulas valparaiso  orgao publico\n",
       "564                           empresas orgaos publicos  orgao publico\n",
       "565  dge – departamento gestao estrategica metas na...  orgao publico\n",
       "566                            lei reforma trabalhista  orgao publico\n",
       "\n",
       "[567 rows x 2 columns]"
      ]
     },
     "execution_count": 14,
     "metadata": {},
     "output_type": "execute_result"
    }
   ],
   "source": [
    "dataset[texto] = [cleaning(text) for text in dataset[texto]]\n",
    "dataset[setor] = [cleaning(text) for text in dataset[setor]]\n",
    "\n",
    "dataset"
   ]
  },
  {
   "cell_type": "markdown",
   "metadata": {},
   "source": [
    "#### Tokenização"
   ]
  },
  {
   "cell_type": "markdown",
   "metadata": {},
   "source": [
    "Antes da tokenização, vamos definir X como os textos e y sendo a representação númerica de cada setor (aplicando o label enconding)"
   ]
  },
  {
   "cell_type": "code",
   "execution_count": 15,
   "metadata": {},
   "outputs": [],
   "source": [
    "X = dataset[texto]\n",
    "\n",
    "enc = LabelEncoder()\n",
    "y = enc.fit_transform(dataset[setor])"
   ]
  },
  {
   "cell_type": "code",
   "execution_count": 16,
   "metadata": {},
   "outputs": [
    {
     "name": "stdout",
     "output_type": "stream",
     "text": [
      "X >>\n",
      " 0    auxiliodoenca previdenciario beneficios especi...\n",
      "1                               pagar contas atraso r.\n",
      "2                     entao encontraremos proxima aula\n",
      "3     resultados categoria ofertas modelo nissan kicks\n",
      "4             alem embalagem reutilizavel   reciclavel\n",
      "Name: sentence, dtype: object\n",
      "-----\n",
      "y >> [3 1 0 2 2]\n"
     ]
    }
   ],
   "source": [
    "print('X >>\\n',X[:5])\n",
    "print('-----')\n",
    "print('y >>',y[:5])"
   ]
  },
  {
   "cell_type": "code",
   "execution_count": 17,
   "metadata": {},
   "outputs": [],
   "source": [
    "## Construindo o tokenizer (tendo 10 mil como o tamanho do vocabulario alvo)\n",
    "tokenizer = tfds.deprecated.text.SubwordTextEncoder.build_from_corpus(X, target_vocab_size=10000)"
   ]
  },
  {
   "cell_type": "code",
   "execution_count": 18,
   "metadata": {},
   "outputs": [
    {
     "data": {
      "text/plain": [
       "2233"
      ]
     },
     "execution_count": 18,
     "metadata": {},
     "output_type": "execute_result"
    }
   ],
   "source": [
    "## Tamanho do vocabulário\n",
    "tokenizer.vocab_size"
   ]
  },
  {
   "cell_type": "code",
   "execution_count": 19,
   "metadata": {},
   "outputs": [
    {
     "data": {
      "text/plain": [
       "['   ', 'voce_', 'carro_', 'x_', 'sao_']"
      ]
     },
     "execution_count": 19,
     "metadata": {},
     "output_type": "execute_result"
    }
   ],
   "source": [
    "tokenizer.subwords[:5]"
   ]
  },
  {
   "cell_type": "markdown",
   "metadata": {},
   "source": [
    "Exemplo de como funciona a tokenização:"
   ]
  },
  {
   "cell_type": "code",
   "execution_count": 20,
   "metadata": {},
   "outputs": [
    {
     "data": {
      "text/plain": [
       "[2042, 2089, 116, 2053, 2050, 2043, 2059, 2042, 2060]"
      ]
     },
     "execution_count": 20,
     "metadata": {},
     "output_type": "execute_result"
    }
   ],
   "source": [
    "ids = tokenizer.encode('Aprenda LIBRAS')\n",
    "ids"
   ]
  },
  {
   "cell_type": "code",
   "execution_count": 21,
   "metadata": {},
   "outputs": [
    {
     "data": {
      "text/plain": [
       "'Aprenda LIBRAS'"
      ]
     },
     "execution_count": 21,
     "metadata": {},
     "output_type": "execute_result"
    }
   ],
   "source": [
    "text = tokenizer.decode(ids)\n",
    "text"
   ]
  },
  {
   "cell_type": "markdown",
   "metadata": {},
   "source": [
    "___"
   ]
  },
  {
   "cell_type": "code",
   "execution_count": 22,
   "metadata": {},
   "outputs": [
    {
     "data": {
      "text/plain": [
       "[[616, 208, 103, 92, 27, 123],\n",
       " [77, 263, 1836, 2091, 2023],\n",
       " [536, 1508, 121, 284],\n",
       " [196, 595, 25, 1149, 7, 467],\n",
       " [104, 145, 114, 1, 370]]"
      ]
     },
     "execution_count": 22,
     "metadata": {},
     "output_type": "execute_result"
    }
   ],
   "source": [
    "data_inputs = [tokenizer.encode(sentence) for sentence in X]\n",
    "data_inputs[:5]"
   ]
  },
  {
   "cell_type": "markdown",
   "metadata": {},
   "source": [
    "#### Padding"
   ]
  },
  {
   "cell_type": "markdown",
   "metadata": {},
   "source": [
    "Uma vez que muitos modelos exigem que o dado de entrada sejam de uma dimensão em específico, vamos aplicar o padding para que todos os inputs sejam do mesmo tamanho. "
   ]
  },
  {
   "cell_type": "code",
   "execution_count": 23,
   "metadata": {},
   "outputs": [],
   "source": [
    "data_inputs = tf.keras.preprocessing.sequence.pad_sequences(data_inputs,\n",
    "                                                            value = 0,\n",
    "                                                            padding = 'post',\n",
    "                                                            maxlen=50)"
   ]
  },
  {
   "cell_type": "code",
   "execution_count": 24,
   "metadata": {},
   "outputs": [
    {
     "data": {
      "text/plain": [
       "array([[ 616,  208,  103,   92,   27,  123,    0,    0,    0,    0,    0,\n",
       "           0,    0,    0,    0,    0,    0,    0,    0,    0,    0,    0,\n",
       "           0,    0,    0,    0,    0,    0,    0,    0,    0,    0,    0,\n",
       "           0,    0,    0,    0,    0,    0,    0,    0,    0,    0,    0,\n",
       "           0,    0,    0,    0,    0,    0],\n",
       "       [  77,  263, 1836, 2091, 2023,    0,    0,    0,    0,    0,    0,\n",
       "           0,    0,    0,    0,    0,    0,    0,    0,    0,    0,    0,\n",
       "           0,    0,    0,    0,    0,    0,    0,    0,    0,    0,    0,\n",
       "           0,    0,    0,    0,    0,    0,    0,    0,    0,    0,    0,\n",
       "           0,    0,    0,    0,    0,    0]])"
      ]
     },
     "execution_count": 24,
     "metadata": {},
     "output_type": "execute_result"
    }
   ],
   "source": [
    "data_inputs[:2]"
   ]
  },
  {
   "cell_type": "markdown",
   "metadata": {},
   "source": [
    "## Modelagem"
   ]
  },
  {
   "cell_type": "markdown",
   "metadata": {},
   "source": [
    "Como um primeiro modelo, optei criar uma Rede Neural Convolucional (CNN) que receberá os textos no formato `data_inputs`. Essa CNN processará o texto ao longo de camadas de convolução e pooling e, por fim, retornará a probabilidade do texto de entrada estar associado a cada classe possível."
   ]
  },
  {
   "cell_type": "markdown",
   "metadata": {},
   "source": [
    "Primeiro é necessário separar os dados de treino e os dados de teste."
   ]
  },
  {
   "cell_type": "code",
   "execution_count": 25,
   "metadata": {},
   "outputs": [],
   "source": [
    "data_labels = np.array(y)\n",
    "train_inputs, test_inputs, train_labels, test_labels = train_test_split(data_inputs,\n",
    "                                                                        data_labels,\n",
    "                                                                        test_size=0.1,\n",
    "                                                                        stratify = data_labels)"
   ]
  },
  {
   "cell_type": "code",
   "execution_count": 26,
   "metadata": {},
   "outputs": [
    {
     "name": "stdout",
     "output_type": "stream",
     "text": [
      "Shape dos dados de treinamento: Inputs: (510, 50) Labels: (510,)\n",
      "Shape dos dados de teste: Inputs: (57, 50) Labels: (57,)\n"
     ]
    }
   ],
   "source": [
    "print('Shape dos dados de treinamento:',f'Inputs: {train_inputs.shape} Labels: {train_labels.shape}')\n",
    "print('Shape dos dados de teste:',f'Inputs: {test_inputs.shape} Labels: {test_labels.shape}')"
   ]
  },
  {
   "cell_type": "markdown",
   "metadata": {},
   "source": [
    "Criando o modelo"
   ]
  },
  {
   "cell_type": "code",
   "execution_count": 35,
   "metadata": {},
   "outputs": [],
   "source": [
    "class DCNN(tf.keras.Model):\n",
    "\n",
    "  def __init__(self,\n",
    "               vocab_size,\n",
    "               emb_dim=128,\n",
    "               nb_filters=50,\n",
    "               ffn_units=512,\n",
    "               nb_classes=2,\n",
    "               dropout_rate=0.1,\n",
    "               training=False,\n",
    "               name='dcnn'):\n",
    "\n",
    "    ## Inicializando modelo\n",
    "    super(DCNN, self).__init__(name=name)\n",
    "\n",
    "    ## Primeira camada (Embeddings)\n",
    "    self.embedding = layers.Embedding(vocab_size, emb_dim)\n",
    "\n",
    "    ## Segunda camada (Kernels)\n",
    "    self.bigram = layers.Conv1D(filters=nb_filters, kernel_size=2, padding='same', activation='relu')\n",
    "    self.trigram = layers.Conv1D(filters=nb_filters, kernel_size=3, padding='same', activation='relu')\n",
    "    self.fourgram = layers.Conv1D(filters=nb_filters, kernel_size=4, padding='same', activation='relu')\n",
    "\n",
    "    ## Terceira camanda (Pooling)\n",
    "    self.pool = layers.GlobalMaxPool1D()\n",
    "    # self.batchnorm = layers.BatchNormalization()\n",
    "\n",
    "    ## A saída da camada pooling, já é uma camada flatten\n",
    "\n",
    "    ## Rede densa\n",
    "    self.dense_1 = layers.Dense(units=ffn_units, activation='relu')\n",
    "    self.dropout = layers.Dropout(rate=dropout_rate)\n",
    "\n",
    "    if nb_classes == 2:\n",
    "      self.last_dense = layers.Dense(units=1, activation='sigmoid')\n",
    "    else:\n",
    "      self.last_dense = layers.Dense(units=nb_classes,activation='softmax')\n",
    "\n",
    "  def call(self, inputs, training):\n",
    "    # Função de chamada que define o passo de propagação para frente do modelo\n",
    "\n",
    "    # Camada de embeddings: converte os índices de palavras em vetores de embedding\n",
    "    x = self.embedding(inputs)\n",
    "\n",
    "    # Convolução de bigrama seguida por pooling\n",
    "    x_1 = self.bigram(x)\n",
    "    x_1 = self.pool(x_1)\n",
    "\n",
    "    # Convolução de trigrama seguida por pooling\n",
    "    x_2 = self.trigram(x)\n",
    "    x_2 = self.pool(x_2)\n",
    "\n",
    "    # Convolução de quatrigrama seguida por pooling\n",
    "    x_3 = self.fourgram(x)\n",
    "    x_3 = self.pool(x_3)\n",
    "\n",
    "    # Concatenando as saídas das convoluções de bigrama e trigrama\n",
    "    merged = tf.concat([x_1, x_2, x_3], axis=-1) \n",
    "    merged = self.dense_1(merged) # processa a concatenação das saídas das camadas de pooling\n",
    "    merged = self.dropout(merged, training=training) # dropout para evitar overfitting\n",
    "    output = self.last_dense(merged) #ultima camada\n",
    "   \n",
    "    return output"
   ]
  },
  {
   "cell_type": "markdown",
   "metadata": {},
   "source": [
    "Iniciando o Treinamento "
   ]
  },
  {
   "cell_type": "code",
   "execution_count": 65,
   "metadata": {},
   "outputs": [],
   "source": [
    "## Parametros\n",
    "vocab_size = tokenizer.vocab_size\n",
    "emb_dim = 128\n",
    "nb_filters = 50\n",
    "ffn_units = 128\n",
    "batch_size = 64\n",
    "nb_classes = len(set(train_labels))\n",
    "dropout_rate = 0.2\n",
    "nb_epochs = 100"
   ]
  },
  {
   "cell_type": "code",
   "execution_count": 79,
   "metadata": {},
   "outputs": [],
   "source": [
    "## Inicializando modelo\n",
    "model = DCNN(vocab_size=vocab_size, emb_dim=emb_dim, nb_filters=nb_filters,\n",
    "            ffn_units=ffn_units, nb_classes=nb_classes, dropout_rate=dropout_rate)"
   ]
  },
  {
   "cell_type": "code",
   "execution_count": 80,
   "metadata": {},
   "outputs": [],
   "source": [
    "## Compilando\n",
    "if nb_classes == 2:\n",
    "  model.compile(loss='binary_crossentropy', optimizer='adam', metrics=['accuracy'])\n",
    "else:\n",
    "  model.compile(loss='sparse_categorical_crossentropy', optimizer='Adam', metrics=['accuracy'])"
   ]
  },
  {
   "cell_type": "code",
   "execution_count": 81,
   "metadata": {},
   "outputs": [
    {
     "name": "stdout",
     "output_type": "stream",
     "text": [
      "Epoch 1/100\n"
     ]
    },
    {
     "name": "stdout",
     "output_type": "stream",
     "text": [
      "\u001b[1m7/7\u001b[0m \u001b[32m━━━━━━━━━━━━━━━━━━━━\u001b[0m\u001b[37m\u001b[0m \u001b[1m6s\u001b[0m 93ms/step - accuracy: 0.2269 - loss: 1.6044 - val_accuracy: 0.2255 - val_loss: 1.6118\n",
      "Epoch 2/100\n",
      "\u001b[1m7/7\u001b[0m \u001b[32m━━━━━━━━━━━━━━━━━━━━\u001b[0m\u001b[37m\u001b[0m \u001b[1m0s\u001b[0m 36ms/step - accuracy: 0.3760 - loss: 1.5314 - val_accuracy: 0.2255 - val_loss: 1.6185\n",
      "Epoch 3/100\n",
      "\u001b[1m7/7\u001b[0m \u001b[32m━━━━━━━━━━━━━━━━━━━━\u001b[0m\u001b[37m\u001b[0m \u001b[1m0s\u001b[0m 31ms/step - accuracy: 0.3990 - loss: 1.4780 - val_accuracy: 0.2353 - val_loss: 1.6057\n",
      "Epoch 4/100\n",
      "\u001b[1m7/7\u001b[0m \u001b[32m━━━━━━━━━━━━━━━━━━━━\u001b[0m\u001b[37m\u001b[0m \u001b[1m0s\u001b[0m 38ms/step - accuracy: 0.4875 - loss: 1.3905 - val_accuracy: 0.2941 - val_loss: 1.5872\n",
      "Epoch 5/100\n",
      "\u001b[1m7/7\u001b[0m \u001b[32m━━━━━━━━━━━━━━━━━━━━\u001b[0m\u001b[37m\u001b[0m \u001b[1m0s\u001b[0m 42ms/step - accuracy: 0.6221 - loss: 1.2730 - val_accuracy: 0.3431 - val_loss: 1.5533\n",
      "Epoch 6/100\n",
      "\u001b[1m7/7\u001b[0m \u001b[32m━━━━━━━━━━━━━━━━━━━━\u001b[0m\u001b[37m\u001b[0m \u001b[1m0s\u001b[0m 38ms/step - accuracy: 0.8036 - loss: 1.0987 - val_accuracy: 0.3725 - val_loss: 1.4902\n",
      "Epoch 7/100\n",
      "\u001b[1m7/7\u001b[0m \u001b[32m━━━━━━━━━━━━━━━━━━━━\u001b[0m\u001b[37m\u001b[0m \u001b[1m0s\u001b[0m 41ms/step - accuracy: 0.9197 - loss: 0.8745 - val_accuracy: 0.4216 - val_loss: 1.4049\n",
      "Epoch 8/100\n",
      "\u001b[1m7/7\u001b[0m \u001b[32m━━━━━━━━━━━━━━━━━━━━\u001b[0m\u001b[37m\u001b[0m \u001b[1m0s\u001b[0m 33ms/step - accuracy: 0.9436 - loss: 0.6191 - val_accuracy: 0.4902 - val_loss: 1.3210\n",
      "Epoch 9/100\n",
      "\u001b[1m7/7\u001b[0m \u001b[32m━━━━━━━━━━━━━━━━━━━━\u001b[0m\u001b[37m\u001b[0m \u001b[1m0s\u001b[0m 33ms/step - accuracy: 0.9495 - loss: 0.3946 - val_accuracy: 0.5196 - val_loss: 1.2904\n",
      "Epoch 10/100\n",
      "\u001b[1m7/7\u001b[0m \u001b[32m━━━━━━━━━━━━━━━━━━━━\u001b[0m\u001b[37m\u001b[0m \u001b[1m0s\u001b[0m 34ms/step - accuracy: 0.9401 - loss: 0.2552 - val_accuracy: 0.5588 - val_loss: 1.3092\n",
      "Epoch 11/100\n",
      "\u001b[1m7/7\u001b[0m \u001b[32m━━━━━━━━━━━━━━━━━━━━\u001b[0m\u001b[37m\u001b[0m \u001b[1m0s\u001b[0m 32ms/step - accuracy: 0.9424 - loss: 0.1792 - val_accuracy: 0.5686 - val_loss: 1.3410\n",
      "Epoch 12/100\n",
      "\u001b[1m7/7\u001b[0m \u001b[32m━━━━━━━━━━━━━━━━━━━━\u001b[0m\u001b[37m\u001b[0m \u001b[1m0s\u001b[0m 34ms/step - accuracy: 0.9278 - loss: 0.1563 - val_accuracy: 0.5686 - val_loss: 1.3884\n",
      "Epoch 13/100\n",
      "\u001b[1m7/7\u001b[0m \u001b[32m━━━━━━━━━━━━━━━━━━━━\u001b[0m\u001b[37m\u001b[0m \u001b[1m0s\u001b[0m 37ms/step - accuracy: 0.9397 - loss: 0.1248 - val_accuracy: 0.5686 - val_loss: 1.4227\n",
      "Epoch 14/100\n",
      "\u001b[1m7/7\u001b[0m \u001b[32m━━━━━━━━━━━━━━━━━━━━\u001b[0m\u001b[37m\u001b[0m \u001b[1m0s\u001b[0m 36ms/step - accuracy: 0.9337 - loss: 0.1100 - val_accuracy: 0.5686 - val_loss: 1.4487\n",
      "Epoch 15/100\n",
      "\u001b[1m7/7\u001b[0m \u001b[32m━━━━━━━━━━━━━━━━━━━━\u001b[0m\u001b[37m\u001b[0m \u001b[1m0s\u001b[0m 37ms/step - accuracy: 0.9491 - loss: 0.1049 - val_accuracy: 0.5588 - val_loss: 1.4650\n",
      "Epoch 16/100\n",
      "\u001b[1m7/7\u001b[0m \u001b[32m━━━━━━━━━━━━━━━━━━━━\u001b[0m\u001b[37m\u001b[0m \u001b[1m0s\u001b[0m 40ms/step - accuracy: 0.9262 - loss: 0.1162 - val_accuracy: 0.5686 - val_loss: 1.4770\n",
      "Epoch 17/100\n",
      "\u001b[1m7/7\u001b[0m \u001b[32m━━━━━━━━━━━━━━━━━━━━\u001b[0m\u001b[37m\u001b[0m \u001b[1m1s\u001b[0m 48ms/step - accuracy: 0.9240 - loss: 0.1140 - val_accuracy: 0.5588 - val_loss: 1.4959\n",
      "Epoch 18/100\n",
      "\u001b[1m7/7\u001b[0m \u001b[32m━━━━━━━━━━━━━━━━━━━━\u001b[0m\u001b[37m\u001b[0m \u001b[1m0s\u001b[0m 37ms/step - accuracy: 0.9294 - loss: 0.1064 - val_accuracy: 0.5686 - val_loss: 1.5307\n",
      "Epoch 19/100\n",
      "\u001b[1m7/7\u001b[0m \u001b[32m━━━━━━━━━━━━━━━━━━━━\u001b[0m\u001b[37m\u001b[0m \u001b[1m0s\u001b[0m 32ms/step - accuracy: 0.9511 - loss: 0.0942 - val_accuracy: 0.5588 - val_loss: 1.5302\n",
      "Epoch 20/100\n",
      "\u001b[1m7/7\u001b[0m \u001b[32m━━━━━━━━━━━━━━━━━━━━\u001b[0m\u001b[37m\u001b[0m \u001b[1m0s\u001b[0m 33ms/step - accuracy: 0.9334 - loss: 0.1038 - val_accuracy: 0.5588 - val_loss: 1.5400\n",
      "Epoch 21/100\n",
      "\u001b[1m7/7\u001b[0m \u001b[32m━━━━━━━━━━━━━━━━━━━━\u001b[0m\u001b[37m\u001b[0m \u001b[1m0s\u001b[0m 31ms/step - accuracy: 0.9260 - loss: 0.1132 - val_accuracy: 0.5686 - val_loss: 1.5520\n",
      "Epoch 22/100\n",
      "\u001b[1m7/7\u001b[0m \u001b[32m━━━━━━━━━━━━━━━━━━━━\u001b[0m\u001b[37m\u001b[0m \u001b[1m0s\u001b[0m 34ms/step - accuracy: 0.9398 - loss: 0.0987 - val_accuracy: 0.5686 - val_loss: 1.5488\n",
      "Epoch 23/100\n",
      "\u001b[1m7/7\u001b[0m \u001b[32m━━━━━━━━━━━━━━━━━━━━\u001b[0m\u001b[37m\u001b[0m \u001b[1m0s\u001b[0m 33ms/step - accuracy: 0.9416 - loss: 0.1056 - val_accuracy: 0.5686 - val_loss: 1.5389\n",
      "Epoch 24/100\n",
      "\u001b[1m7/7\u001b[0m \u001b[32m━━━━━━━━━━━━━━━━━━━━\u001b[0m\u001b[37m\u001b[0m \u001b[1m0s\u001b[0m 39ms/step - accuracy: 0.9361 - loss: 0.1024 - val_accuracy: 0.5686 - val_loss: 1.5532\n",
      "Epoch 25/100\n",
      "\u001b[1m7/7\u001b[0m \u001b[32m━━━━━━━━━━━━━━━━━━━━\u001b[0m\u001b[37m\u001b[0m \u001b[1m0s\u001b[0m 35ms/step - accuracy: 0.9468 - loss: 0.1045 - val_accuracy: 0.5588 - val_loss: 1.5841\n",
      "Epoch 26/100\n",
      "\u001b[1m7/7\u001b[0m \u001b[32m━━━━━━━━━━━━━━━━━━━━\u001b[0m\u001b[37m\u001b[0m \u001b[1m0s\u001b[0m 33ms/step - accuracy: 0.9310 - loss: 0.1127 - val_accuracy: 0.5588 - val_loss: 1.5713\n",
      "Epoch 27/100\n",
      "\u001b[1m7/7\u001b[0m \u001b[32m━━━━━━━━━━━━━━━━━━━━\u001b[0m\u001b[37m\u001b[0m \u001b[1m0s\u001b[0m 33ms/step - accuracy: 0.9370 - loss: 0.0953 - val_accuracy: 0.5490 - val_loss: 1.6037\n",
      "Epoch 28/100\n",
      "\u001b[1m7/7\u001b[0m \u001b[32m━━━━━━━━━━━━━━━━━━━━\u001b[0m\u001b[37m\u001b[0m \u001b[1m0s\u001b[0m 33ms/step - accuracy: 0.9375 - loss: 0.1010 - val_accuracy: 0.5588 - val_loss: 1.6078\n",
      "Epoch 29/100\n",
      "\u001b[1m7/7\u001b[0m \u001b[32m━━━━━━━━━━━━━━━━━━━━\u001b[0m\u001b[37m\u001b[0m \u001b[1m0s\u001b[0m 35ms/step - accuracy: 0.9235 - loss: 0.1129 - val_accuracy: 0.5686 - val_loss: 1.5574\n",
      "Epoch 30/100\n",
      "\u001b[1m7/7\u001b[0m \u001b[32m━━━━━━━━━━━━━━━━━━━━\u001b[0m\u001b[37m\u001b[0m \u001b[1m0s\u001b[0m 45ms/step - accuracy: 0.9174 - loss: 0.1118 - val_accuracy: 0.5882 - val_loss: 1.5329\n",
      "Epoch 31/100\n",
      "\u001b[1m7/7\u001b[0m \u001b[32m━━━━━━━━━━━━━━━━━━━━\u001b[0m\u001b[37m\u001b[0m \u001b[1m0s\u001b[0m 43ms/step - accuracy: 0.9323 - loss: 0.1029 - val_accuracy: 0.5686 - val_loss: 1.5690\n",
      "Epoch 32/100\n",
      "\u001b[1m7/7\u001b[0m \u001b[32m━━━━━━━━━━━━━━━━━━━━\u001b[0m\u001b[37m\u001b[0m \u001b[1m1s\u001b[0m 85ms/step - accuracy: 0.9315 - loss: 0.0907 - val_accuracy: 0.5686 - val_loss: 1.5967\n",
      "Epoch 33/100\n",
      "\u001b[1m7/7\u001b[0m \u001b[32m━━━━━━━━━━━━━━━━━━━━\u001b[0m\u001b[37m\u001b[0m \u001b[1m0s\u001b[0m 31ms/step - accuracy: 0.9319 - loss: 0.1037 - val_accuracy: 0.5588 - val_loss: 1.6085\n",
      "Epoch 34/100\n",
      "\u001b[1m7/7\u001b[0m \u001b[32m━━━━━━━━━━━━━━━━━━━━\u001b[0m\u001b[37m\u001b[0m \u001b[1m0s\u001b[0m 32ms/step - accuracy: 0.9493 - loss: 0.0936 - val_accuracy: 0.5686 - val_loss: 1.6014\n",
      "Epoch 35/100\n",
      "\u001b[1m7/7\u001b[0m \u001b[32m━━━━━━━━━━━━━━━━━━━━\u001b[0m\u001b[37m\u001b[0m \u001b[1m0s\u001b[0m 33ms/step - accuracy: 0.9304 - loss: 0.0981 - val_accuracy: 0.5686 - val_loss: 1.6039\n",
      "Epoch 36/100\n",
      "\u001b[1m7/7\u001b[0m \u001b[32m━━━━━━━━━━━━━━━━━━━━\u001b[0m\u001b[37m\u001b[0m \u001b[1m0s\u001b[0m 31ms/step - accuracy: 0.9465 - loss: 0.0959 - val_accuracy: 0.5784 - val_loss: 1.6234\n",
      "Epoch 37/100\n",
      "\u001b[1m7/7\u001b[0m \u001b[32m━━━━━━━━━━━━━━━━━━━━\u001b[0m\u001b[37m\u001b[0m \u001b[1m0s\u001b[0m 33ms/step - accuracy: 0.9440 - loss: 0.0925 - val_accuracy: 0.5686 - val_loss: 1.6395\n",
      "Epoch 38/100\n",
      "\u001b[1m7/7\u001b[0m \u001b[32m━━━━━━━━━━━━━━━━━━━━\u001b[0m\u001b[37m\u001b[0m \u001b[1m0s\u001b[0m 33ms/step - accuracy: 0.9398 - loss: 0.0928 - val_accuracy: 0.5784 - val_loss: 1.6162\n",
      "Epoch 39/100\n",
      "\u001b[1m7/7\u001b[0m \u001b[32m━━━━━━━━━━━━━━━━━━━━\u001b[0m\u001b[37m\u001b[0m \u001b[1m0s\u001b[0m 32ms/step - accuracy: 0.9287 - loss: 0.0943 - val_accuracy: 0.5784 - val_loss: 1.6196\n",
      "Epoch 40/100\n",
      "\u001b[1m7/7\u001b[0m \u001b[32m━━━━━━━━━━━━━━━━━━━━\u001b[0m\u001b[37m\u001b[0m \u001b[1m0s\u001b[0m 32ms/step - accuracy: 0.9402 - loss: 0.0992 - val_accuracy: 0.5686 - val_loss: 1.6140\n",
      "Epoch 41/100\n",
      "\u001b[1m7/7\u001b[0m \u001b[32m━━━━━━━━━━━━━━━━━━━━\u001b[0m\u001b[37m\u001b[0m \u001b[1m0s\u001b[0m 33ms/step - accuracy: 0.9456 - loss: 0.1016 - val_accuracy: 0.5686 - val_loss: 1.6224\n",
      "Epoch 42/100\n",
      "\u001b[1m7/7\u001b[0m \u001b[32m━━━━━━━━━━━━━━━━━━━━\u001b[0m\u001b[37m\u001b[0m \u001b[1m0s\u001b[0m 37ms/step - accuracy: 0.9268 - loss: 0.1031 - val_accuracy: 0.5686 - val_loss: 1.6327\n",
      "Epoch 43/100\n",
      "\u001b[1m7/7\u001b[0m \u001b[32m━━━━━━━━━━━━━━━━━━━━\u001b[0m\u001b[37m\u001b[0m \u001b[1m0s\u001b[0m 34ms/step - accuracy: 0.9482 - loss: 0.1005 - val_accuracy: 0.5882 - val_loss: 1.6270\n",
      "Epoch 44/100\n",
      "\u001b[1m7/7\u001b[0m \u001b[32m━━━━━━━━━━━━━━━━━━━━\u001b[0m\u001b[37m\u001b[0m \u001b[1m0s\u001b[0m 33ms/step - accuracy: 0.9382 - loss: 0.0956 - val_accuracy: 0.5784 - val_loss: 1.6561\n",
      "Epoch 45/100\n",
      "\u001b[1m7/7\u001b[0m \u001b[32m━━━━━━━━━━━━━━━━━━━━\u001b[0m\u001b[37m\u001b[0m \u001b[1m0s\u001b[0m 33ms/step - accuracy: 0.9216 - loss: 0.1011 - val_accuracy: 0.5784 - val_loss: 1.6506\n",
      "Epoch 46/100\n",
      "\u001b[1m7/7\u001b[0m \u001b[32m━━━━━━━━━━━━━━━━━━━━\u001b[0m\u001b[37m\u001b[0m \u001b[1m0s\u001b[0m 31ms/step - accuracy: 0.9381 - loss: 0.0943 - val_accuracy: 0.5784 - val_loss: 1.6295\n",
      "Epoch 47/100\n",
      "\u001b[1m7/7\u001b[0m \u001b[32m━━━━━━━━━━━━━━━━━━━━\u001b[0m\u001b[37m\u001b[0m \u001b[1m0s\u001b[0m 35ms/step - accuracy: 0.9442 - loss: 0.0932 - val_accuracy: 0.5882 - val_loss: 1.6455\n",
      "Epoch 48/100\n",
      "\u001b[1m7/7\u001b[0m \u001b[32m━━━━━━━━━━━━━━━━━━━━\u001b[0m\u001b[37m\u001b[0m \u001b[1m0s\u001b[0m 33ms/step - accuracy: 0.9401 - loss: 0.0926 - val_accuracy: 0.5588 - val_loss: 1.6906\n",
      "Epoch 49/100\n",
      "\u001b[1m7/7\u001b[0m \u001b[32m━━━━━━━━━━━━━━━━━━━━\u001b[0m\u001b[37m\u001b[0m \u001b[1m0s\u001b[0m 33ms/step - accuracy: 0.9399 - loss: 0.0892 - val_accuracy: 0.5588 - val_loss: 1.6999\n",
      "Epoch 50/100\n",
      "\u001b[1m7/7\u001b[0m \u001b[32m━━━━━━━━━━━━━━━━━━━━\u001b[0m\u001b[37m\u001b[0m \u001b[1m0s\u001b[0m 32ms/step - accuracy: 0.9277 - loss: 0.1068 - val_accuracy: 0.5588 - val_loss: 1.6694\n",
      "Epoch 51/100\n",
      "\u001b[1m7/7\u001b[0m \u001b[32m━━━━━━━━━━━━━━━━━━━━\u001b[0m\u001b[37m\u001b[0m \u001b[1m0s\u001b[0m 33ms/step - accuracy: 0.9329 - loss: 0.1004 - val_accuracy: 0.5784 - val_loss: 1.6546\n",
      "Epoch 52/100\n",
      "\u001b[1m7/7\u001b[0m \u001b[32m━━━━━━━━━━━━━━━━━━━━\u001b[0m\u001b[37m\u001b[0m \u001b[1m0s\u001b[0m 35ms/step - accuracy: 0.9235 - loss: 0.1048 - val_accuracy: 0.5686 - val_loss: 1.6685\n",
      "Epoch 53/100\n",
      "\u001b[1m7/7\u001b[0m \u001b[32m━━━━━━━━━━━━━━━━━━━━\u001b[0m\u001b[37m\u001b[0m \u001b[1m0s\u001b[0m 33ms/step - accuracy: 0.9256 - loss: 0.1017 - val_accuracy: 0.5588 - val_loss: 1.6781\n",
      "Epoch 54/100\n",
      "\u001b[1m7/7\u001b[0m \u001b[32m━━━━━━━━━━━━━━━━━━━━\u001b[0m\u001b[37m\u001b[0m \u001b[1m0s\u001b[0m 31ms/step - accuracy: 0.9252 - loss: 0.1087 - val_accuracy: 0.5686 - val_loss: 1.6836\n",
      "Epoch 55/100\n",
      "\u001b[1m7/7\u001b[0m \u001b[32m━━━━━━━━━━━━━━━━━━━━\u001b[0m\u001b[37m\u001b[0m \u001b[1m0s\u001b[0m 33ms/step - accuracy: 0.9420 - loss: 0.0946 - val_accuracy: 0.5490 - val_loss: 1.7064\n",
      "Epoch 56/100\n",
      "\u001b[1m7/7\u001b[0m \u001b[32m━━━━━━━━━━━━━━━━━━━━\u001b[0m\u001b[37m\u001b[0m \u001b[1m0s\u001b[0m 32ms/step - accuracy: 0.9339 - loss: 0.1114 - val_accuracy: 0.5686 - val_loss: 1.6833\n",
      "Epoch 57/100\n",
      "\u001b[1m7/7\u001b[0m \u001b[32m━━━━━━━━━━━━━━━━━━━━\u001b[0m\u001b[37m\u001b[0m \u001b[1m0s\u001b[0m 36ms/step - accuracy: 0.9352 - loss: 0.0974 - val_accuracy: 0.5784 - val_loss: 1.6730\n",
      "Epoch 58/100\n",
      "\u001b[1m7/7\u001b[0m \u001b[32m━━━━━━━━━━━━━━━━━━━━\u001b[0m\u001b[37m\u001b[0m \u001b[1m0s\u001b[0m 34ms/step - accuracy: 0.9442 - loss: 0.0940 - val_accuracy: 0.5686 - val_loss: 1.6732\n",
      "Epoch 59/100\n",
      "\u001b[1m7/7\u001b[0m \u001b[32m━━━━━━━━━━━━━━━━━━━━\u001b[0m\u001b[37m\u001b[0m \u001b[1m0s\u001b[0m 43ms/step - accuracy: 0.9293 - loss: 0.0961 - val_accuracy: 0.5686 - val_loss: 1.6831\n",
      "Epoch 60/100\n",
      "\u001b[1m7/7\u001b[0m \u001b[32m━━━━━━━━━━━━━━━━━━━━\u001b[0m\u001b[37m\u001b[0m \u001b[1m0s\u001b[0m 41ms/step - accuracy: 0.9176 - loss: 0.0976 - val_accuracy: 0.5784 - val_loss: 1.6895\n",
      "Epoch 61/100\n",
      "\u001b[1m7/7\u001b[0m \u001b[32m━━━━━━━━━━━━━━━━━━━━\u001b[0m\u001b[37m\u001b[0m \u001b[1m0s\u001b[0m 43ms/step - accuracy: 0.9483 - loss: 0.0919 - val_accuracy: 0.5686 - val_loss: 1.6823\n",
      "Epoch 62/100\n",
      "\u001b[1m7/7\u001b[0m \u001b[32m━━━━━━━━━━━━━━━━━━━━\u001b[0m\u001b[37m\u001b[0m \u001b[1m1s\u001b[0m 70ms/step - accuracy: 0.9318 - loss: 0.1058 - val_accuracy: 0.5686 - val_loss: 1.6821\n",
      "Epoch 63/100\n",
      "\u001b[1m7/7\u001b[0m \u001b[32m━━━━━━━━━━━━━━━━━━━━\u001b[0m\u001b[37m\u001b[0m \u001b[1m0s\u001b[0m 48ms/step - accuracy: 0.9367 - loss: 0.0913 - val_accuracy: 0.5784 - val_loss: 1.6995\n",
      "Epoch 64/100\n",
      "\u001b[1m7/7\u001b[0m \u001b[32m━━━━━━━━━━━━━━━━━━━━\u001b[0m\u001b[37m\u001b[0m \u001b[1m0s\u001b[0m 35ms/step - accuracy: 0.9231 - loss: 0.1038 - val_accuracy: 0.5784 - val_loss: 1.6979\n",
      "Epoch 65/100\n",
      "\u001b[1m7/7\u001b[0m \u001b[32m━━━━━━━━━━━━━━━━━━━━\u001b[0m\u001b[37m\u001b[0m \u001b[1m0s\u001b[0m 28ms/step - accuracy: 0.9460 - loss: 0.0927 - val_accuracy: 0.5784 - val_loss: 1.6946\n",
      "Epoch 66/100\n",
      "\u001b[1m7/7\u001b[0m \u001b[32m━━━━━━━━━━━━━━━━━━━━\u001b[0m\u001b[37m\u001b[0m \u001b[1m0s\u001b[0m 29ms/step - accuracy: 0.9371 - loss: 0.0931 - val_accuracy: 0.5686 - val_loss: 1.7047\n",
      "Epoch 67/100\n",
      "\u001b[1m7/7\u001b[0m \u001b[32m━━━━━━━━━━━━━━━━━━━━\u001b[0m\u001b[37m\u001b[0m \u001b[1m0s\u001b[0m 29ms/step - accuracy: 0.9406 - loss: 0.1010 - val_accuracy: 0.5686 - val_loss: 1.7083\n",
      "Epoch 68/100\n",
      "\u001b[1m7/7\u001b[0m \u001b[32m━━━━━━━━━━━━━━━━━━━━\u001b[0m\u001b[37m\u001b[0m \u001b[1m0s\u001b[0m 31ms/step - accuracy: 0.9415 - loss: 0.0941 - val_accuracy: 0.5784 - val_loss: 1.6969\n",
      "Epoch 69/100\n",
      "\u001b[1m7/7\u001b[0m \u001b[32m━━━━━━━━━━━━━━━━━━━━\u001b[0m\u001b[37m\u001b[0m \u001b[1m0s\u001b[0m 30ms/step - accuracy: 0.9187 - loss: 0.1030 - val_accuracy: 0.5784 - val_loss: 1.6839\n",
      "Epoch 70/100\n",
      "\u001b[1m7/7\u001b[0m \u001b[32m━━━━━━━━━━━━━━━━━━━━\u001b[0m\u001b[37m\u001b[0m \u001b[1m0s\u001b[0m 27ms/step - accuracy: 0.9479 - loss: 0.0889 - val_accuracy: 0.5686 - val_loss: 1.6965\n",
      "Epoch 71/100\n",
      "\u001b[1m7/7\u001b[0m \u001b[32m━━━━━━━━━━━━━━━━━━━━\u001b[0m\u001b[37m\u001b[0m \u001b[1m0s\u001b[0m 32ms/step - accuracy: 0.9443 - loss: 0.0944 - val_accuracy: 0.5686 - val_loss: 1.7073\n",
      "Epoch 72/100\n",
      "\u001b[1m7/7\u001b[0m \u001b[32m━━━━━━━━━━━━━━━━━━━━\u001b[0m\u001b[37m\u001b[0m \u001b[1m0s\u001b[0m 27ms/step - accuracy: 0.9384 - loss: 0.0902 - val_accuracy: 0.5784 - val_loss: 1.7107\n",
      "Epoch 73/100\n",
      "\u001b[1m7/7\u001b[0m \u001b[32m━━━━━━━━━━━━━━━━━━━━\u001b[0m\u001b[37m\u001b[0m \u001b[1m0s\u001b[0m 29ms/step - accuracy: 0.9248 - loss: 0.0969 - val_accuracy: 0.5784 - val_loss: 1.7220\n",
      "Epoch 74/100\n",
      "\u001b[1m7/7\u001b[0m \u001b[32m━━━━━━━━━━━━━━━━━━━━\u001b[0m\u001b[37m\u001b[0m \u001b[1m0s\u001b[0m 28ms/step - accuracy: 0.9575 - loss: 0.0799 - val_accuracy: 0.5686 - val_loss: 1.7298\n",
      "Epoch 75/100\n",
      "\u001b[1m7/7\u001b[0m \u001b[32m━━━━━━━━━━━━━━━━━━━━\u001b[0m\u001b[37m\u001b[0m \u001b[1m0s\u001b[0m 25ms/step - accuracy: 0.9304 - loss: 0.0988 - val_accuracy: 0.5784 - val_loss: 1.7123\n",
      "Epoch 76/100\n",
      "\u001b[1m7/7\u001b[0m \u001b[32m━━━━━━━━━━━━━━━━━━━━\u001b[0m\u001b[37m\u001b[0m \u001b[1m0s\u001b[0m 29ms/step - accuracy: 0.9308 - loss: 0.0960 - val_accuracy: 0.5784 - val_loss: 1.6943\n",
      "Epoch 77/100\n",
      "\u001b[1m7/7\u001b[0m \u001b[32m━━━━━━━━━━━━━━━━━━━━\u001b[0m\u001b[37m\u001b[0m \u001b[1m0s\u001b[0m 36ms/step - accuracy: 0.9440 - loss: 0.0865 - val_accuracy: 0.5784 - val_loss: 1.7060\n",
      "Epoch 78/100\n",
      "\u001b[1m7/7\u001b[0m \u001b[32m━━━━━━━━━━━━━━━━━━━━\u001b[0m\u001b[37m\u001b[0m \u001b[1m0s\u001b[0m 43ms/step - accuracy: 0.9306 - loss: 0.0977 - val_accuracy: 0.5882 - val_loss: 1.7149\n",
      "Epoch 79/100\n",
      "\u001b[1m7/7\u001b[0m \u001b[32m━━━━━━━━━━━━━━━━━━━━\u001b[0m\u001b[37m\u001b[0m \u001b[1m0s\u001b[0m 48ms/step - accuracy: 0.9375 - loss: 0.0895 - val_accuracy: 0.5784 - val_loss: 1.7333\n",
      "Epoch 80/100\n",
      "\u001b[1m7/7\u001b[0m \u001b[32m━━━━━━━━━━━━━━━━━━━━\u001b[0m\u001b[37m\u001b[0m \u001b[1m1s\u001b[0m 44ms/step - accuracy: 0.9315 - loss: 0.0902 - val_accuracy: 0.5784 - val_loss: 1.7488\n",
      "Epoch 81/100\n",
      "\u001b[1m7/7\u001b[0m \u001b[32m━━━━━━━━━━━━━━━━━━━━\u001b[0m\u001b[37m\u001b[0m \u001b[1m0s\u001b[0m 57ms/step - accuracy: 0.9495 - loss: 0.0897 - val_accuracy: 0.5784 - val_loss: 1.7428\n",
      "Epoch 82/100\n",
      "\u001b[1m7/7\u001b[0m \u001b[32m━━━━━━━━━━━━━━━━━━━━\u001b[0m\u001b[37m\u001b[0m \u001b[1m0s\u001b[0m 51ms/step - accuracy: 0.9303 - loss: 0.1003 - val_accuracy: 0.5784 - val_loss: 1.7358\n",
      "Epoch 83/100\n",
      "\u001b[1m7/7\u001b[0m \u001b[32m━━━━━━━━━━━━━━━━━━━━\u001b[0m\u001b[37m\u001b[0m \u001b[1m0s\u001b[0m 45ms/step - accuracy: 0.9479 - loss: 0.0825 - val_accuracy: 0.5784 - val_loss: 1.7353\n",
      "Epoch 84/100\n",
      "\u001b[1m7/7\u001b[0m \u001b[32m━━━━━━━━━━━━━━━━━━━━\u001b[0m\u001b[37m\u001b[0m \u001b[1m0s\u001b[0m 42ms/step - accuracy: 0.9262 - loss: 0.1013 - val_accuracy: 0.5686 - val_loss: 1.7300\n",
      "Epoch 85/100\n",
      "\u001b[1m7/7\u001b[0m \u001b[32m━━━━━━━━━━━━━━━━━━━━\u001b[0m\u001b[37m\u001b[0m \u001b[1m0s\u001b[0m 36ms/step - accuracy: 0.9441 - loss: 0.0990 - val_accuracy: 0.5882 - val_loss: 1.7211\n",
      "Epoch 86/100\n",
      "\u001b[1m7/7\u001b[0m \u001b[32m━━━━━━━━━━━━━━━━━━━━\u001b[0m\u001b[37m\u001b[0m \u001b[1m0s\u001b[0m 39ms/step - accuracy: 0.9321 - loss: 0.0961 - val_accuracy: 0.5882 - val_loss: 1.7141\n",
      "Epoch 87/100\n",
      "\u001b[1m7/7\u001b[0m \u001b[32m━━━━━━━━━━━━━━━━━━━━\u001b[0m\u001b[37m\u001b[0m \u001b[1m0s\u001b[0m 35ms/step - accuracy: 0.9055 - loss: 0.1174 - val_accuracy: 0.5784 - val_loss: 1.7026\n",
      "Epoch 88/100\n",
      "\u001b[1m7/7\u001b[0m \u001b[32m━━━━━━━━━━━━━━━━━━━━\u001b[0m\u001b[37m\u001b[0m \u001b[1m0s\u001b[0m 39ms/step - accuracy: 0.9499 - loss: 0.0911 - val_accuracy: 0.5882 - val_loss: 1.7076\n",
      "Epoch 89/100\n",
      "\u001b[1m7/7\u001b[0m \u001b[32m━━━━━━━━━━━━━━━━━━━━\u001b[0m\u001b[37m\u001b[0m \u001b[1m0s\u001b[0m 35ms/step - accuracy: 0.9230 - loss: 0.1023 - val_accuracy: 0.5784 - val_loss: 1.6999\n",
      "Epoch 90/100\n",
      "\u001b[1m7/7\u001b[0m \u001b[32m━━━━━━━━━━━━━━━━━━━━\u001b[0m\u001b[37m\u001b[0m \u001b[1m0s\u001b[0m 32ms/step - accuracy: 0.9363 - loss: 0.0977 - val_accuracy: 0.5784 - val_loss: 1.7067\n",
      "Epoch 91/100\n",
      "\u001b[1m7/7\u001b[0m \u001b[32m━━━━━━━━━━━━━━━━━━━━\u001b[0m\u001b[37m\u001b[0m \u001b[1m0s\u001b[0m 35ms/step - accuracy: 0.9317 - loss: 0.1018 - val_accuracy: 0.5784 - val_loss: 1.7075\n",
      "Epoch 92/100\n",
      "\u001b[1m7/7\u001b[0m \u001b[32m━━━━━━━━━━━━━━━━━━━━\u001b[0m\u001b[37m\u001b[0m \u001b[1m0s\u001b[0m 33ms/step - accuracy: 0.9357 - loss: 0.0961 - val_accuracy: 0.5882 - val_loss: 1.7084\n",
      "Epoch 93/100\n",
      "\u001b[1m7/7\u001b[0m \u001b[32m━━━━━━━━━━━━━━━━━━━━\u001b[0m\u001b[37m\u001b[0m \u001b[1m0s\u001b[0m 34ms/step - accuracy: 0.9238 - loss: 0.0961 - val_accuracy: 0.5784 - val_loss: 1.7242\n",
      "Epoch 94/100\n",
      "\u001b[1m7/7\u001b[0m \u001b[32m━━━━━━━━━━━━━━━━━━━━\u001b[0m\u001b[37m\u001b[0m \u001b[1m0s\u001b[0m 35ms/step - accuracy: 0.9414 - loss: 0.0896 - val_accuracy: 0.5784 - val_loss: 1.7323\n",
      "Epoch 95/100\n",
      "\u001b[1m7/7\u001b[0m \u001b[32m━━━━━━━━━━━━━━━━━━━━\u001b[0m\u001b[37m\u001b[0m \u001b[1m0s\u001b[0m 35ms/step - accuracy: 0.9197 - loss: 0.1029 - val_accuracy: 0.5882 - val_loss: 1.7240\n",
      "Epoch 96/100\n",
      "\u001b[1m7/7\u001b[0m \u001b[32m━━━━━━━━━━━━━━━━━━━━\u001b[0m\u001b[37m\u001b[0m \u001b[1m0s\u001b[0m 35ms/step - accuracy: 0.9241 - loss: 0.1043 - val_accuracy: 0.5784 - val_loss: 1.6981\n",
      "Epoch 97/100\n",
      "\u001b[1m7/7\u001b[0m \u001b[32m━━━━━━━━━━━━━━━━━━━━\u001b[0m\u001b[37m\u001b[0m \u001b[1m0s\u001b[0m 34ms/step - accuracy: 0.9352 - loss: 0.0889 - val_accuracy: 0.5882 - val_loss: 1.6961\n",
      "Epoch 98/100\n",
      "\u001b[1m7/7\u001b[0m \u001b[32m━━━━━━━━━━━━━━━━━━━━\u001b[0m\u001b[37m\u001b[0m \u001b[1m0s\u001b[0m 69ms/step - accuracy: 0.9342 - loss: 0.0979 - val_accuracy: 0.5882 - val_loss: 1.7074\n",
      "Epoch 99/100\n",
      "\u001b[1m7/7\u001b[0m \u001b[32m━━━━━━━━━━━━━━━━━━━━\u001b[0m\u001b[37m\u001b[0m \u001b[1m0s\u001b[0m 32ms/step - accuracy: 0.9357 - loss: 0.1024 - val_accuracy: 0.5882 - val_loss: 1.7181\n",
      "Epoch 100/100\n",
      "\u001b[1m7/7\u001b[0m \u001b[32m━━━━━━━━━━━━━━━━━━━━\u001b[0m\u001b[37m\u001b[0m \u001b[1m0s\u001b[0m 43ms/step - accuracy: 0.9441 - loss: 0.0908 - val_accuracy: 0.5980 - val_loss: 1.7322\n",
      "\u001b[1m1/1\u001b[0m \u001b[32m━━━━━━━━━━━━━━━━━━━━\u001b[0m\u001b[37m\u001b[0m \u001b[1m0s\u001b[0m 72ms/step - accuracy: 0.5439 - loss: 1.9816\n",
      "loss:  1.981641173362732 \n",
      "acurácia:  0.5438596606254578\n"
     ]
    }
   ],
   "source": [
    "history = model.fit(train_inputs, train_labels,\n",
    "            batch_size = batch_size,\n",
    "            epochs = nb_epochs,\n",
    "            verbose = 1,\n",
    "            validation_split = .2)\n",
    "\n",
    "results = model.evaluate(test_inputs, test_labels, batch_size=batch_size)\n",
    "print('loss: ',results[0],'\\nacurácia: ',results[1])"
   ]
  },
  {
   "cell_type": "code",
   "execution_count": 82,
   "metadata": {},
   "outputs": [
    {
     "name": "stdout",
     "output_type": "stream",
     "text": [
      "WARNING:tensorflow:6 out of the last 9 calls to <function TensorFlowTrainer.make_predict_function.<locals>.one_step_on_data_distributed at 0x0000018B5A070A60> triggered tf.function retracing. Tracing is expensive and the excessive number of tracings could be due to (1) creating @tf.function repeatedly in a loop, (2) passing tensors with different shapes, (3) passing Python objects instead of tensors. For (1), please define your @tf.function outside of the loop. For (2), @tf.function has reduce_retracing=True option that can avoid unnecessary retracing. For (3), please refer to https://www.tensorflow.org/guide/function#controlling_retracing and https://www.tensorflow.org/api_docs/python/tf/function for  more details.\n"
     ]
    },
    {
     "name": "stderr",
     "output_type": "stream",
     "text": [
      "WARNING:tensorflow:6 out of the last 9 calls to <function TensorFlowTrainer.make_predict_function.<locals>.one_step_on_data_distributed at 0x0000018B5A070A60> triggered tf.function retracing. Tracing is expensive and the excessive number of tracings could be due to (1) creating @tf.function repeatedly in a loop, (2) passing tensors with different shapes, (3) passing Python objects instead of tensors. For (1), please define your @tf.function outside of the loop. For (2), @tf.function has reduce_retracing=True option that can avoid unnecessary retracing. For (3), please refer to https://www.tensorflow.org/guide/function#controlling_retracing and https://www.tensorflow.org/api_docs/python/tf/function for  more details.\n"
     ]
    },
    {
     "name": "stdout",
     "output_type": "stream",
     "text": [
      "\u001b[1m2/2\u001b[0m \u001b[32m━━━━━━━━━━━━━━━━━━━━\u001b[0m\u001b[37m\u001b[0m \u001b[1m1s\u001b[0m 208ms/step\n"
     ]
    },
    {
     "data": {
      "image/png": "[encoded data removed]",
      "text/plain": [
       "<Figure size 640x480 with 2 Axes>"
      ]
     },
     "metadata": {},
     "output_type": "display_data"
    }
   ],
   "source": [
    "y_pred_test = [np.argmax(y_pred_test) for y_pred_test in model.predict(test_inputs)]\n",
    "cm = confusion_matrix(test_labels, y_pred_test)\n",
    "\n",
    "# Definindo os rótulos das classes\n",
    "classes = [enc.inverse_transform([i])[0] for i in range(5)]\n",
    "\n",
    "# Plot do heatmap\n",
    "sns.heatmap(cm, annot=True, xticklabels=classes, yticklabels=classes)\n",
    "\n",
    "# Definindo os rótulos dos eixos\n",
    "plt.xlabel('Predições')\n",
    "plt.ylabel('Labels Reais')\n",
    "\n",
    "# Mostrando o gráfico\n",
    "plt.show()"
   ]
  }
 ],
 "metadata": {
  "kernelspec": {
   "display_name": "projects-env",
   "language": "python",
   "name": "python3"
  },
  "language_info": {
   "codemirror_mode": {
    "name": "ipython",
    "version": 3
   },
   "file_extension": ".py",
   "mimetype": "text/x-python",
   "name": "python",
   "nbconvert_exporter": "python",
   "pygments_lexer": "ipython3",
   "version": "3.10.0"
  }
 },
 "nbformat": 4,
 "nbformat_minor": 2
}
